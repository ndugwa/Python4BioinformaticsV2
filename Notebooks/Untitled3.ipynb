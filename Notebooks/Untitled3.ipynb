{
 "cells": [
  {
   "cell_type": "code",
   "execution_count": 33,
   "metadata": {},
   "outputs": [],
   "source": [
    "\"\"\"\n",
    "culculate %GC and %AT in a DNA sequence\n",
    "\"\"\"\n",
    "def percentage(seq):\n",
    "    \"\"\"\n",
    "    Takes a DNA sequence and returns percentages as a tuple eg (GC,AT)\n",
    "    \"\"\"\n",
    "    name = seq.upper()\n",
    "    AT_percen=(name.count(\"A\") + name.count(\"T\")/len(name))* 100\n",
    "    GC_percen=(name.count(\"G\") + name.count(\"C\"))/len(name)* 100\n",
    "    return GC_percen, AT_percen\n",
    "    "
   ]
  },
  {
   "cell_type": "code",
   "execution_count": 34,
   "metadata": {},
   "outputs": [],
   "source": [
    "dna = 'AAAAATCCCGAGGCGGCTATATAGGGCTCCGGAGGCGTAATATAAAAG'"
   ]
  },
  {
   "cell_type": "code",
   "execution_count": 35,
   "metadata": {},
   "outputs": [],
   "source": [
    "percentage(dna)"
   ]
  },
  {
   "cell_type": "code",
   "execution_count": 7,
   "metadata": {},
   "outputs": [],
   "source": [
    "\"\"\"\n",
    "Given the amino acid sequence it find the first, last and the 5th amino acids in the sequence.\n",
    "\"\"\"\n",
    "def possition(amino_seq):\n",
    "    \"\"\"\n",
    "    takes amino acid sequence and returns a tuple of amino acids in possition\n",
    "    First, 5th and last. eg (First, 5th, last)\n",
    "    \"\"\"\n",
    "    first= amino_seq[0]\n",
    "    f5Th = amino_seq[4]\n",
    "    last = amino_seq[-1]\n",
    "    \n",
    "    return(first, f5Th, last)\n",
    "\n"
   ]
  },
  {
   "cell_type": "code",
   "execution_count": 8,
   "metadata": {},
   "outputs": [],
   "source": [
    "amino='MNKMDLVADVAEKTDLSKAKATEVIDAVFA'"
   ]
  },
  {
   "cell_type": "code",
   "execution_count": 9,
   "metadata": {},
   "outputs": [
    {
     "data": {
      "text/plain": [
       "('M', 'D', 'A')"
      ]
     },
     "execution_count": 9,
     "metadata": {},
     "output_type": "execute_result"
    }
   ],
   "source": [
    "possition(amino)"
   ]
  },
  {
   "cell_type": "code",
   "execution_count": 12,
   "metadata": {},
   "outputs": [],
   "source": [
    "def pos_aa(aa_seq):\n",
    "    \"takes ammino acid sequence and returns amino acids in the first, last and the 5th positions\"\n",
    "    #aa_seq_upper = aa_seq.upper\n",
    "    \n",
    "    first_aa = aa_seq[0]\n",
    "    last_aa = aa_seq[-1]\n",
    "    fifyth = aa_seq(4)\n",
    "    \n",
    "    return (first_aa, last_aa, fifyth)\n",
    "\n",
    "amino='MNKMDLVADVAEKTDLSKAKATEVIDAVFA'\n",
    "#print(find_aa(amino))\n"
   ]
  },
  {
   "cell_type": "code",
   "execution_count": 13,
   "metadata": {},
   "outputs": [
    {
     "ename": "TypeError",
     "evalue": "'str' object is not callable",
     "output_type": "error",
     "traceback": [
      "\u001b[0;31m---------------------------------------------------------------------------\u001b[0m",
      "\u001b[0;31mTypeError\u001b[0m                                 Traceback (most recent call last)",
      "\u001b[0;32m/tmp/ipykernel_9084/3789991403.py\u001b[0m in \u001b[0;36m<module>\u001b[0;34m\u001b[0m\n\u001b[0;32m----> 1\u001b[0;31m \u001b[0mpos_aa\u001b[0m\u001b[0;34m(\u001b[0m\u001b[0mamino\u001b[0m\u001b[0;34m)\u001b[0m\u001b[0;34m\u001b[0m\u001b[0;34m\u001b[0m\u001b[0m\n\u001b[0m",
      "\u001b[0;32m/tmp/ipykernel_9084/2827219158.py\u001b[0m in \u001b[0;36mpos_aa\u001b[0;34m(aa_seq)\u001b[0m\n\u001b[1;32m      5\u001b[0m     \u001b[0mfirst_aa\u001b[0m \u001b[0;34m=\u001b[0m \u001b[0maa_seq\u001b[0m\u001b[0;34m[\u001b[0m\u001b[0;36m0\u001b[0m\u001b[0;34m]\u001b[0m\u001b[0;34m\u001b[0m\u001b[0;34m\u001b[0m\u001b[0m\n\u001b[1;32m      6\u001b[0m     \u001b[0mlast_aa\u001b[0m \u001b[0;34m=\u001b[0m \u001b[0maa_seq\u001b[0m\u001b[0;34m[\u001b[0m\u001b[0;34m-\u001b[0m\u001b[0;36m1\u001b[0m\u001b[0;34m]\u001b[0m\u001b[0;34m\u001b[0m\u001b[0;34m\u001b[0m\u001b[0m\n\u001b[0;32m----> 7\u001b[0;31m     \u001b[0mfifyth\u001b[0m \u001b[0;34m=\u001b[0m \u001b[0maa_seq\u001b[0m\u001b[0;34m(\u001b[0m\u001b[0;36m4\u001b[0m\u001b[0;34m)\u001b[0m\u001b[0;34m\u001b[0m\u001b[0;34m\u001b[0m\u001b[0m\n\u001b[0m\u001b[1;32m      8\u001b[0m \u001b[0;34m\u001b[0m\u001b[0m\n\u001b[1;32m      9\u001b[0m     \u001b[0;32mreturn\u001b[0m \u001b[0;34m(\u001b[0m\u001b[0mfirst_aa\u001b[0m\u001b[0;34m,\u001b[0m \u001b[0mlast_aa\u001b[0m\u001b[0;34m,\u001b[0m \u001b[0mfifyth\u001b[0m\u001b[0;34m)\u001b[0m\u001b[0;34m\u001b[0m\u001b[0;34m\u001b[0m\u001b[0m\n",
      "\u001b[0;31mTypeError\u001b[0m: 'str' object is not callable"
     ]
    }
   ],
   "source": [
    "pos_aa(amino)"
   ]
  },
  {
   "cell_type": "code",
   "execution_count": null,
   "metadata": {},
   "outputs": [],
   "source": []
  }
 ],
 "metadata": {
  "kernelspec": {
   "display_name": "Python 3 (ipykernel)",
   "language": "python",
   "name": "python3"
  },
  "language_info": {
   "codemirror_mode": {
    "name": "ipython",
    "version": 3
   },
   "file_extension": ".py",
   "mimetype": "text/x-python",
   "name": "python",
   "nbconvert_exporter": "python",
   "pygments_lexer": "ipython3",
   "version": "3.9.7"
  }
 },
 "nbformat": 4,
 "nbformat_minor": 4
}
