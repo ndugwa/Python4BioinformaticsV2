{
 "cells": [
  {
   "cell_type": "markdown",
   "id": "ada1ec2b-2f37-48d2-bf1f-da9702c0c3d2",
   "metadata": {},
   "source": [
    "- Calculating the % GC and % AT content in the trna sequence"
   ]
  },
  {
   "cell_type": "code",
   "execution_count": 1,
   "id": "603a9f9f-17e8-4bfb-ac2b-05237b201c98",
   "metadata": {},
   "outputs": [],
   "source": [
    "danSEQ= 'AAAAATCCCGAGGCGGCTATATAGGGCTCCGGAGGCGTAATATAAAAG'\n",
    "\n",
    "def GC_AT_Content(sequence):\n",
    "    \"takes a dna sequence and retuns (GC,AT) percentage content rounded off to 2 decimal places \"\n",
    "    len_seq = len(sequence)\n",
    "    seq_upper = sequence.upper()\n",
    "    GT_content = seq_upper.count('G') + seq_upper.count('C')\n",
    "    AT_content = seq_upper.count('T') + seq_upper.count('A') \n",
    "    return  round((GT_content/len_seq)*100, 2),round((AT_content/len_seq)*100, 2)"
   ]
  },
  {
   "cell_type": "code",
   "execution_count": 2,
   "id": "e1bb18a2-71b9-4579-911e-5b5709570dd6",
   "metadata": {},
   "outputs": [
    {
     "data": {
      "text/plain": [
       "(47.92, 52.08)"
      ]
     },
     "execution_count": 2,
     "metadata": {},
     "output_type": "execute_result"
    }
   ],
   "source": [
    "GC_AT_Content(danSEQ)"
   ]
  },
  {
   "cell_type": "markdown",
   "id": "de3e1020-9fdc-4b99-9878-e0ece1a663b9",
   "metadata": {},
   "source": [
    "- find the first, last and the 5th amino acids in the sequence"
   ]
  },
  {
   "cell_type": "code",
   "execution_count": 3,
   "id": "95acb633-3f3b-49cc-beb5-8c5432f5685f",
   "metadata": {},
   "outputs": [],
   "source": [
    "def find_aa(aa_seq):\n",
    "    \"\"\"\n",
    "    takes ammino acid sequence and returns amino acids in the first, last and the 5th positions\n",
    "    in that order\n",
    "    \"\"\"\n",
    "    \n",
    "    first_aa = aa_seq[0]\n",
    "    last_aa = aa_seq[-1]\n",
    "    fifyth_aa = aa_seq[4]\n",
    "\n",
    "    return first_aa, last_aa, fifyth_aa\n",
    "\n",
    "amino='MNKMDLVADVAEKTDLSKAKATEVIDAVFA'"
   ]
  },
  {
   "cell_type": "code",
   "execution_count": 4,
   "id": "d9698fa1-fa44-45ee-9945-b66eabcdd027",
   "metadata": {},
   "outputs": [
    {
     "data": {
      "text/plain": [
       "('M', 'A', 'D')"
      ]
     },
     "execution_count": 4,
     "metadata": {},
     "output_type": "execute_result"
    }
   ],
   "source": [
    "(find_aa(amino))"
   ]
  },
  {
   "cell_type": "markdown",
   "id": "54e77119-f2f6-420e-b196-45ab44934010",
   "metadata": {},
   "source": [
    "- The above amino acid is a bacterial restriction enzyme that recognizes \"TCCGGA\".\n",
    "- Find the first restriction site in the following sequence: AAAAATCCCGAGGCGGCTATATAGGGCTCCGGAGGCGTAATATAAAA\n"
   ]
  },
  {
   "cell_type": "code",
   "execution_count": 6,
   "id": "3a981366-3051-483d-a04f-4c356657b62d",
   "metadata": {},
   "outputs": [],
   "source": [
    "def restriction(seq,site):    \n",
    "    \"\"\"\n",
    "    takes a sequence and restriction site and returns it postion of the first occurance in the sequence\n",
    "    \"\"\"\n",
    "    x = seq.find(site)\n",
    "    return x\n",
    "\n",
    "dna='AAAAATCCCGAGGCGGCTATATAGGGCTCCGGAGGCGTAATTCCGGAAT'\n",
    "r=\"TCCGGA\""
   ]
  },
  {
   "cell_type": "code",
   "execution_count": 7,
   "id": "3ca094f2-b317-4a96-80af-6dbcd74f4b44",
   "metadata": {},
   "outputs": [
    {
     "data": {
      "text/plain": [
       "27"
      ]
     },
     "execution_count": 7,
     "metadata": {},
     "output_type": "execute_result"
    }
   ],
   "source": [
    "restriction(dna,r)"
   ]
  },
  {
   "cell_type": "markdown",
   "id": "8a2bffeb-c747-45de-a864-84ff935f05bd",
   "metadata": {},
   "source": [
    "-  Using strings, lists, tuples and dictionaries concepts, find the reverse complement of AAAAATCCCGAGGCGGCTATATAGGGCTCCGGAGGCGTAATATAAAA"
   ]
  },
  {
   "cell_type": "code",
   "execution_count": 8,
   "id": "a0a8c7b8-af59-40b4-aafb-a1b9390fff28",
   "metadata": {},
   "outputs": [],
   "source": [
    "def complement_seq(seq):\n",
    "    \"\"\"\n",
    "    converting a dna sequence to its reverse complement\n",
    "    \"\"\"\n",
    "    seq_upper =seq.upper()\n",
    "    compl = seq_upper.replace('A','t').replace('T','a').replace('G',\"c\").replace('C','g')\n",
    "    complement =compl.upper()\n",
    "    return(complement)\n"
   ]
  },
  {
   "cell_type": "code",
   "execution_count": 9,
   "id": "14c22723-7403-4951-95d8-7b733c116b3a",
   "metadata": {},
   "outputs": [
    {
     "data": {
      "text/plain": [
       "'TTTTTAGGGCTCCGCCGATATATCCCGAGGCCTCCGCATTAAGGCCTTA'"
      ]
     },
     "execution_count": 9,
     "metadata": {},
     "output_type": "execute_result"
    }
   ],
   "source": [
    "complement_seq(dna)"
   ]
  },
  {
   "cell_type": "code",
   "execution_count": 10,
   "id": "4b9b8db2-6b5d-48e6-80c8-3a375399d169",
   "metadata": {},
   "outputs": [],
   "source": [
    "def reverse_seq(rev):\n",
    "    \"\"\"\n",
    "    takes a sequence and return a reverse of the sequence\n",
    "    \"\"\"\n",
    "    rev_upper= rev.upper()\n",
    "    reverse_sequence=rev_upper[::-1]\n",
    "    return reverse_sequence\n",
    "# print(reverse_seq(complement_seq(dna)))\n"
   ]
  },
  {
   "cell_type": "code",
   "execution_count": 12,
   "id": "1689277d-3121-493c-b24e-f879630ebd05",
   "metadata": {},
   "outputs": [
    {
     "data": {
      "text/plain": [
       "'ATTCCGGAATTACGCCTCCGGAGCCCTATATAGCCGCCTCGGGATTTTT'"
      ]
     },
     "execution_count": 12,
     "metadata": {},
     "output_type": "execute_result"
    }
   ],
   "source": [
    "reverse_seq(complement_seq(dna))"
   ]
  },
  {
   "cell_type": "markdown",
   "id": "4e25f9cb-22ae-436f-a2de-472b45f60181",
   "metadata": {},
   "source": [
    "- using list"
   ]
  },
  {
   "cell_type": "code",
   "execution_count": 13,
   "id": "758b0d8d-e0ad-4e89-b8a3-29579f708108",
   "metadata": {},
   "outputs": [],
   "source": [
    "def reverse_comp_list(list_seq):\n",
    "    \"\"\"\n",
    "    takes a a dna sequence and retuns it reverse complement\n",
    "    \"\"\"\n",
    "    comp_reverse=''\n",
    "    comp=[]\n",
    "    for nuc in list_seq.upper():\n",
    "        if nuc=='A':\n",
    "            comp.append('T')\n",
    "        elif nuc =='T':\n",
    "            comp.append('A')\n",
    "        elif nuc =='G':\n",
    "            comp.append('C')\n",
    "        elif nuc =='C':\n",
    "            comp.append('G')\n",
    "        else:\n",
    "            comp.append(nuc)\n",
    "    for i in comp:\n",
    "        comp_reverse= i + comp_reverse\n",
    "    return  comp_reverse\n"
   ]
  },
  {
   "cell_type": "code",
   "execution_count": 14,
   "id": "bc4f1601-34fe-4bfe-b63f-e82cb7a91fdd",
   "metadata": {},
   "outputs": [
    {
     "data": {
      "text/plain": [
       "'ATTCCGGAATTACGCCTCCGGAGCCCTATATAGCCGCCTCGGGATTTTT'"
      ]
     },
     "execution_count": 14,
     "metadata": {},
     "output_type": "execute_result"
    }
   ],
   "source": [
    "reverse_comp_list(dna)"
   ]
  },
  {
   "cell_type": "markdown",
   "id": "de583e59-53f4-4b2a-8454-759b9eb3c222",
   "metadata": {},
   "source": [
    "- Create a while loop that starts with x = 0 and increments x until x is equal to 5.\n",
    " Each iteration should print to the console."
   ]
  },
  {
   "cell_type": "code",
   "execution_count": 16,
   "id": "686b731b-9bbb-458b-be15-b6816e6e5bbd",
   "metadata": {},
   "outputs": [],
   "source": [
    "def while_loop():\n",
    "    \"\"\"\n",
    "    while loop that starts with x = 0,increments x until x is equal to 5.\n",
    " Each iteration should print to the console.\n",
    "    \n",
    "    \"\"\"\n",
    "    y=0\n",
    "    while y<=5:\n",
    "        y+=1\n",
    "        print(y)\n",
    "    "
   ]
  },
  {
   "cell_type": "code",
   "execution_count": 17,
   "id": "72b7e51d-9fb9-4a36-ad91-9c017cebf753",
   "metadata": {},
   "outputs": [
    {
     "name": "stdout",
     "output_type": "stream",
     "text": [
      "1\n",
      "2\n",
      "3\n",
      "4\n",
      "5\n",
      "6\n"
     ]
    }
   ],
   "source": [
    "while_loop()"
   ]
  },
  {
   "cell_type": "markdown",
   "id": "d7bd2c16-66c4-43ae-822b-a92b4cce99c1",
   "metadata": {},
   "source": [
    "- Create a for loop that prints values from 4 to 10 to the console."
   ]
  },
  {
   "cell_type": "code",
   "execution_count": 18,
   "id": "bb15e4a8-0009-4434-aaf5-3ca6d0a5fd2c",
   "metadata": {},
   "outputs": [],
   "source": [
    "def for_loop():\n",
    "    \"\"\"\n",
    "    a for loop that prints values from 4 to 10 to the console\n",
    "    \"\"\"\n",
    "    for i in range(4,11):\n",
    "        print(i)\n",
    "\n"
   ]
  },
  {
   "cell_type": "code",
   "execution_count": 19,
   "id": "9dbdcc18-189c-4de0-b4c4-f89b9de1fb51",
   "metadata": {},
   "outputs": [
    {
     "name": "stdout",
     "output_type": "stream",
     "text": [
      "4\n",
      "5\n",
      "6\n",
      "7\n",
      "8\n",
      "9\n",
      "10\n"
     ]
    }
   ],
   "source": [
    "for_loop()"
   ]
  },
  {
   "cell_type": "markdown",
   "id": "4af4ba92-817c-4ee7-8f53-8dc0607ef308",
   "metadata": {},
   "source": [
    "-  Function should return a message if the provided sequence is not DNA "
   ]
  },
  {
   "cell_type": "code",
   "execution_count": 23,
   "id": "f91d83d1-02ff-4595-893d-b176d9eaa0c2",
   "metadata": {},
   "outputs": [],
   "source": [
    "def validate_dna(dna_seq):\n",
    "    \n",
    "    \"\"\"\n",
    "    returns True if DNA sequence is valid and false if not\n",
    "    \"\"\"\n",
    "    flag=True\n",
    "\n",
    "\n",
    "\n",
    "\n",
    "    for i in dna_seq:\n",
    "        \n",
    "        if i not in 'ACGT':\n",
    "            flag=False\n",
    "    return flag"
   ]
  },
  {
   "cell_type": "code",
   "execution_count": 24,
   "id": "e35b147c-cfed-4cdd-84f3-64f8ad5f0a8d",
   "metadata": {},
   "outputs": [
    {
     "name": "stdout",
     "output_type": "stream",
     "text": [
      "True\n"
     ]
    }
   ],
   "source": [
    "print(validate_dna(\"CAGTGATGATGACGAT\"))\n"
   ]
  },
  {
   "cell_type": "code",
   "execution_count": 25,
   "id": "d59bc297-f1de-4fd9-8ad7-21fd80aee368",
   "metadata": {},
   "outputs": [
    {
     "name": "stdout",
     "output_type": "stream",
     "text": [
      "False\n"
     ]
    }
   ],
   "source": [
    "print(validate_dna(\"ATFRACGATTGHAHYAK\"))"
   ]
  },
  {
   "cell_type": "markdown",
   "id": "866a9f1c-cff5-4b9e-b755-17a65b4754fb",
   "metadata": {},
   "source": [
    "- Extract information from a file and write a new file"
   ]
  },
  {
   "cell_type": "code",
   "execution_count": 27,
   "id": "3aa8ab9e-37f0-44dc-893c-3e34741bd113",
   "metadata": {},
   "outputs": [],
   "source": [
    "def gene_file(file1,file2):\n",
    "    \"\"\"\n",
    "    Reads the file (humchr.txt) \n",
    "    Writes to another file (gene_names.txt) a clean list of gene names.\n",
    "    \"\"\"\n",
    "    with open(file1,'r') as file:\n",
    "        with open(file2,'w')as myfile:\n",
    "            count=0\n",
    "            flag=False      \n",
    "            for line in file:\n",
    "            # print(line)\n",
    "                if line.startswith('_____'):\n",
    "                    flag=True\n",
    "                    count+=1\n",
    "                    continue\n",
    "                elif line.startswith('-'):\n",
    "                    flag=False\n",
    "                elif flag and count==2:\n",
    "                    myfile.writelines(line.split()[0]+'\\n')\n",
    "                \n",
    "#gene_file('../Data/humchrx.txt','../Data/gene_name.txt')\n"
   ]
  },
  {
   "cell_type": "code",
   "execution_count": 29,
   "id": "efb4b932-f7d2-4acf-a0ff-9ee42c4d41fe",
   "metadata": {},
   "outputs": [],
   "source": [
    "gene_file('../Data/humchrx.txt','../Data/gene_name.txt')\n"
   ]
  },
  {
   "cell_type": "markdown",
   "id": "b35df49c-d317-4bd0-bb1a-20db90fd824f",
   "metadata": {},
   "source": [
    "- Using a DNA sequence read from file, answer the following questions:"
   ]
  },
  {
   "cell_type": "code",
   "execution_count": 32,
   "id": "653f4568-9a69-461e-9f08-6d290a51218d",
   "metadata": {},
   "outputs": [],
   "source": [
    "def dna_four(dna_seq):\n",
    "    \"\"\"\n",
    "    Shows that the DNA string contains only four letters(reterns 4)\n",
    "    \"\"\"\n",
    "    try:\n",
    "        with open(dna_seq) as myfile:\n",
    "            read_file= myfile.read()\n",
    "            sub_header= read_file.split('\\n' ,1)[1]\n",
    "            lis_file =list(sub_header)\n",
    "            sub_header1= ''.join(lis_file).split('\\n' )\n",
    "            single_line = ''.join(sub_header1)\n",
    "            dna_four_letter = set(single_line)\n",
    "            print(dna_four_letter)\n",
    "        return(len(dna_four_letter))\n",
    "    except FileNotFoundError as no_file:\n",
    "            print('enter valid file or parth')\n"
   ]
  },
  {
   "cell_type": "code",
   "execution_count": 33,
   "id": "a99ea06a-ef01-46ed-be50-e543d9b76c3e",
   "metadata": {},
   "outputs": [
    {
     "name": "stdout",
     "output_type": "stream",
     "text": [
      "{'T', 'G', 'C', 'A'}\n"
     ]
    },
    {
     "data": {
      "text/plain": [
       "4"
      ]
     },
     "execution_count": 33,
     "metadata": {},
     "output_type": "execute_result"
    }
   ],
   "source": [
    "dna_four('../Data/example.fasta')"
   ]
  },
  {
   "cell_type": "code",
   "execution_count": 34,
   "id": "c08e8338-504e-4dc9-b86f-c6e2ee4c7f3e",
   "metadata": {},
   "outputs": [
    {
     "name": "stdout",
     "output_type": "stream",
     "text": [
      "enter valid file or parth\n"
     ]
    }
   ],
   "source": [
    "# not a file\n",
    "dna_four(dna)"
   ]
  },
  {
   "cell_type": "markdown",
   "id": "969b54ea-ffba-4534-bbb1-7a44eabf1227",
   "metadata": {},
   "source": [
    "- in the DNA string there are regions that have a repeating letter.\n",
    "What is the letter and length of the longest repeating region?\n"
   ]
  },
  {
   "cell_type": "code",
   "execution_count": 37,
   "id": "a406ef7c-98d9-4f3c-8658-da9d3a223869",
   "metadata": {},
   "outputs": [],
   "source": [
    "import itertools"
   ]
  },
  {
   "cell_type": "code",
   "execution_count": 38,
   "id": "9ea758d1-1c86-4440-a38b-4ffb846bcd3e",
   "metadata": {},
   "outputs": [],
   "source": [
    "def dna_repeat_letter(file):\n",
    "    \"\"\"\n",
    "    takes a dna file and returns the longest repeating region\n",
    "    \"\"\"\n",
    "\n",
    "\n",
    "    try:\n",
    "        with open(file) as myfile:\n",
    "            read_file= myfile.read()\n",
    "            sub_header= read_file.split('\\n' ,1)[1]\n",
    "            lis_file =list(sub_header)\n",
    "            sub_header1= ''.join(lis_file).split('\\n' )\n",
    "            single_line = ''.join(sub_header1)\n",
    "            repeat=sorted([list(g) for k,g in itertools.groupby(dna)], key=len)[-1]\n",
    "        return(repeat)\n",
    "    except FileNotFoundError as no_file:\n",
    "            print('enter valid file or parth')\n",
    "\n"
   ]
  },
  {
   "cell_type": "code",
   "execution_count": 42,
   "id": "0cc10c83-73ec-4ddb-83bd-29061ad82db7",
   "metadata": {},
   "outputs": [
    {
     "name": "stdout",
     "output_type": "stream",
     "text": [
      "['A', 'A', 'A', 'A', 'A']\n",
      "5\n"
     ]
    }
   ],
   "source": [
    "#print(dna_repeat_letter(dna))\n",
    "\n",
    "print(dna_repeat_letter('../Data/example.fasta'))\n",
    "print(len(dna_repeat_letter('../Data/example.fasta')))\n"
   ]
  },
  {
   "cell_type": "markdown",
   "id": "60436571-2375-402e-8b9a-d1042c0b233c",
   "metadata": {},
   "source": [
    "- How many ’ATG’s are in the DNA string?"
   ]
  },
  {
   "cell_type": "code",
   "execution_count": 47,
   "id": "26c1c7f3-981a-4eb8-9fb7-3bd44f6614f6",
   "metadata": {},
   "outputs": [],
   "source": [
    "def dna_string_3(dna_sequence,string):\n",
    "    \"\"\"\n",
    "    takes a dna sequence and a substring of three's and\n",
    "    returns the frequence of the substring\n",
    "    \"\"\"\n",
    "    try:\n",
    "        with open(dna_sequence) as myfile:\n",
    "            read_file= myfile.read()\n",
    "            sub_header= read_file.split('\\n' ,1)[1]\n",
    "            lis_file =list(sub_header)\n",
    "            sub_header1= ''.join(lis_file).split('\\n' )\n",
    "            single_line = ''.join(sub_header1)\n",
    "            count =0\n",
    "            i=0\n",
    "            upper_dna = single_line.upper()\n",
    "            for i in range(i,len(upper_dna), 3):\n",
    "                # print(single_line[i:i+3])\n",
    "                if upper_dna[i:i+3]==string.upper():\n",
    "                    # print(single_line[i:i+3])\n",
    "\n",
    "                    count= count +1\n",
    "                \n",
    "\n",
    "          \n",
    "        return(count)\n",
    "    except FileNotFoundError as no_file:\n",
    "        print('invalid parth')\n",
    "\n",
    "#print(dna_string_3('../Data/example.fasta', 'AtG'))\n",
    "\n",
    "\n"
   ]
  },
  {
   "cell_type": "code",
   "execution_count": 49,
   "id": "778d4cf8-a15b-4fea-82f0-c2f5bd0c2997",
   "metadata": {},
   "outputs": [
    {
     "name": "stdout",
     "output_type": "stream",
     "text": [
      "6\n"
     ]
    }
   ],
   "source": [
    "print(dna_string_3('../Data/example.fasta', 'ATG'))\n",
    "\n",
    "\n"
   ]
  },
  {
   "cell_type": "code",
   "execution_count": 4,
   "id": "3007e15e-e068-4654-a3bd-b53e530dd642",
   "metadata": {},
   "outputs": [],
   "source": [
    "def dna_repeats(file):\n",
    "    \"\"\"\n",
    "    Opens a dna seq ade determinesthe letter,\n",
    "     and length of the longest repeating region\n",
    "    \"\"\"\n",
    "    with open(file) as fh:\n",
    "        file = fh.read()\n",
    "        file1 =file.split('\\n', 1)[1]\n",
    "        file2 = list(file1)\n",
    "        file3 = ''.join(file2).split('\\n')\n",
    "        file4 = ''.join(file3)\n",
    "    \n",
    "        let_repeat = sorted([list(g) for k,g in groupby(file4)], key=len)[-1]\n",
    "        # print(f'the letter is {set(let_repeat)} and lenth of the repest is {len(repeat)}')\n",
    "\n",
    "    return let_repeat\n",
    "\n",
    "#print(dna_repeats('../../../Data/coding_seq.fa'))"
   ]
  },
  {
   "cell_type": "code",
   "execution_count": 5,
   "id": "e7bb2cd4-fceb-4692-b7e9-c285ca017486",
   "metadata": {},
   "outputs": [
    {
     "ename": "FileNotFoundError",
     "evalue": "[Errno 2] No such file or directory: '../../Data/coding_seq.fa'",
     "output_type": "error",
     "traceback": [
      "\u001b[0;31m---------------------------------------------------------------------------\u001b[0m",
      "\u001b[0;31mFileNotFoundError\u001b[0m                         Traceback (most recent call last)",
      "\u001b[0;32m/tmp/ipykernel_70087/3011731041.py\u001b[0m in \u001b[0;36m<module>\u001b[0;34m\u001b[0m\n\u001b[0;32m----> 1\u001b[0;31m \u001b[0mprint\u001b[0m\u001b[0;34m(\u001b[0m\u001b[0mdna_repeats\u001b[0m\u001b[0;34m(\u001b[0m\u001b[0;34m'../../Data/coding_seq.fa'\u001b[0m\u001b[0;34m)\u001b[0m\u001b[0;34m)\u001b[0m\u001b[0;34m\u001b[0m\u001b[0;34m\u001b[0m\u001b[0m\n\u001b[0m",
      "\u001b[0;32m/tmp/ipykernel_70087/3044992221.py\u001b[0m in \u001b[0;36mdna_repeats\u001b[0;34m(file)\u001b[0m\n\u001b[1;32m      4\u001b[0m      \u001b[0;32mand\u001b[0m \u001b[0mlength\u001b[0m \u001b[0mof\u001b[0m \u001b[0mthe\u001b[0m \u001b[0mlongest\u001b[0m \u001b[0mrepeating\u001b[0m \u001b[0mregion\u001b[0m\u001b[0;34m\u001b[0m\u001b[0;34m\u001b[0m\u001b[0m\n\u001b[1;32m      5\u001b[0m     \"\"\"\n\u001b[0;32m----> 6\u001b[0;31m     \u001b[0;32mwith\u001b[0m \u001b[0mopen\u001b[0m\u001b[0;34m(\u001b[0m\u001b[0mfile\u001b[0m\u001b[0;34m)\u001b[0m \u001b[0;32mas\u001b[0m \u001b[0mfh\u001b[0m\u001b[0;34m:\u001b[0m\u001b[0;34m\u001b[0m\u001b[0;34m\u001b[0m\u001b[0m\n\u001b[0m\u001b[1;32m      7\u001b[0m         \u001b[0mfile\u001b[0m \u001b[0;34m=\u001b[0m \u001b[0mfh\u001b[0m\u001b[0;34m.\u001b[0m\u001b[0mread\u001b[0m\u001b[0;34m(\u001b[0m\u001b[0;34m)\u001b[0m\u001b[0;34m\u001b[0m\u001b[0;34m\u001b[0m\u001b[0m\n\u001b[1;32m      8\u001b[0m         \u001b[0mfile1\u001b[0m \u001b[0;34m=\u001b[0m\u001b[0mfile\u001b[0m\u001b[0;34m.\u001b[0m\u001b[0msplit\u001b[0m\u001b[0;34m(\u001b[0m\u001b[0;34m'\\n'\u001b[0m\u001b[0;34m,\u001b[0m \u001b[0;36m1\u001b[0m\u001b[0;34m)\u001b[0m\u001b[0;34m[\u001b[0m\u001b[0;36m1\u001b[0m\u001b[0;34m]\u001b[0m\u001b[0;34m\u001b[0m\u001b[0;34m\u001b[0m\u001b[0m\n",
      "\u001b[0;31mFileNotFoundError\u001b[0m: [Errno 2] No such file or directory: '../../Data/coding_seq.fa'"
     ]
    }
   ],
   "source": [
    "print(dna_repeats('../../Data/coding_seq.fa'))"
   ]
  },
  {
   "cell_type": "code",
   "execution_count": 10,
   "id": "6906e27b-7144-4b7c-9b8b-8ec5fd44ac0c",
   "metadata": {},
   "outputs": [
    {
     "name": "stderr",
     "output_type": "stream",
     "text": [
      "IOPub data rate exceeded.\n",
      "The Jupyter server will temporarily stop sending output\n",
      "to the client in order to avoid crashing it.\n",
      "To change this limit, set the config variable\n",
      "`--ServerApp.iopub_data_rate_limit`.\n",
      "\n",
      "Current values:\n",
      "ServerApp.iopub_data_rate_limit=1000000.0 (bytes/sec)\n",
      "ServerApp.rate_limit_window=3.0 (secs)\n",
      "\n"
     ]
    }
   ],
   "source": [
    "ab = []\n",
    "\n",
    "\n",
    "\n",
    "with open('../../practice-exams-ndugwa/Data/kallisto/sample37/abundance.tsv') as sp:\n",
    "    # for colomn in sp:\n",
    "    raws_1 = sp.readlines()\n",
    "    for raw in raws_1:\n",
    "        ab.append(raw)\n",
    "        \n",
    "        # ab.append(col.split()[0],col.split('\\t')[3])\n",
    "print(ab)"
   ]
  },
  {
   "cell_type": "code",
   "execution_count": null,
   "id": "acb34379-20dd-44c5-85b1-2389cb02f7a4",
   "metadata": {},
   "outputs": [],
   "source": []
  }
 ],
 "metadata": {
  "kernelspec": {
   "display_name": "Python 3 (ipykernel)",
   "language": "python",
   "name": "python3"
  },
  "language_info": {
   "codemirror_mode": {
    "name": "ipython",
    "version": 3
   },
   "file_extension": ".py",
   "mimetype": "text/x-python",
   "name": "python",
   "nbconvert_exporter": "python",
   "pygments_lexer": "ipython3",
   "version": "3.9.7"
  }
 },
 "nbformat": 4,
 "nbformat_minor": 5
}
