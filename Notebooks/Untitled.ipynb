{
 "cells": [
  {
   "cell_type": "markdown",
   "id": "829bc192",
   "metadata": {},
   "source": [
    "# My document in learning python\n",
    "here we go"
   ]
  },
  {
   "cell_type": "markdown",
   "id": "e318e6de",
   "metadata": {},
   "source": [
    "## python as a calculater"
   ]
  },
  {
   "cell_type": "code",
   "execution_count": 2,
   "id": "9a152097",
   "metadata": {},
   "outputs": [
    {
     "data": {
      "text/plain": [
       "6"
      ]
     },
     "execution_count": 2,
     "metadata": {},
     "output_type": "execute_result"
    }
   ],
   "source": [
    "2 +4"
   ]
  },
  {
   "cell_type": "code",
   "execution_count": 3,
   "id": "ba4a751c",
   "metadata": {},
   "outputs": [],
   "source": [
    "add = 5 *5"
   ]
  },
  {
   "cell_type": "code",
   "execution_count": 4,
   "id": "5c610932",
   "metadata": {},
   "outputs": [
    {
     "data": {
      "text/plain": [
       "25"
      ]
     },
     "execution_count": 4,
     "metadata": {},
     "output_type": "execute_result"
    }
   ],
   "source": [
    "add"
   ]
  },
  {
   "cell_type": "markdown",
   "id": "8e06ec85",
   "metadata": {},
   "source": [
    "## strings"
   ]
  },
  {
   "cell_type": "code",
   "execution_count": 5,
   "id": "e4954b85",
   "metadata": {},
   "outputs": [],
   "source": [
    "name = \"Henry\""
   ]
  },
  {
   "cell_type": "code",
   "execution_count": 6,
   "id": "f01dd27d",
   "metadata": {},
   "outputs": [
    {
     "name": "stdout",
     "output_type": "stream",
     "text": [
      "my name is Henry\n"
     ]
    }
   ],
   "source": [
    "print(\"my name is \" + name)"
   ]
  },
  {
   "cell_type": "code",
   "execution_count": 3,
   "id": "ce3318e2",
   "metadata": {},
   "outputs": [
    {
     "name": "stdin",
     "output_type": "stream",
     "text": [
      "Please Enter Your name:  John\n"
     ]
    },
    {
     "name": "stdout",
     "output_type": "stream",
     "text": [
      "Your name is John\n"
     ]
    }
   ],
   "source": [
    "name = input('Please Enter Your name: ')\n",
    "name\n",
    "massage = 'Your name is ' + name\n",
    "print (massage)"
   ]
  },
  {
   "cell_type": "code",
   "execution_count": 2,
   "id": "011a59b4",
   "metadata": {},
   "outputs": [
    {
     "data": {
      "text/plain": [
       "1331.0"
      ]
     },
     "execution_count": 2,
     "metadata": {},
     "output_type": "execute_result"
    }
   ],
   "source": [
    "11.0 ** 3\n",
    "\n"
   ]
  },
  {
   "cell_type": "markdown",
   "id": "98a6c301",
   "metadata": {},
   "source": [
    "## help \n"
   ]
  },
  {
   "cell_type": "code",
   "execution_count": 5,
   "id": "a2ae94fb",
   "metadata": {},
   "outputs": [
    {
     "name": "stdout",
     "output_type": "stream",
     "text": [
      "Help on built-in function print in module builtins:\n",
      "\n",
      "print(...)\n",
      "    print(value, ..., sep=' ', end='\\n', file=sys.stdout, flush=False)\n",
      "    \n",
      "    Prints the values to a stream, or to sys.stdout by default.\n",
      "    Optional keyword arguments:\n",
      "    file:  a file-like object (stream); defaults to the current sys.stdout.\n",
      "    sep:   string inserted between values, default a space.\n",
      "    end:   string appended after the last value, default a newline.\n",
      "    flush: whether to forcibly flush the stream.\n",
      "\n"
     ]
    }
   ],
   "source": [
    "help(print)"
   ]
  },
  {
   "cell_type": "markdown",
   "id": "6f759cb2",
   "metadata": {},
   "source": [
    "using a defualt seperator"
   ]
  },
  {
   "cell_type": "code",
   "execution_count": 7,
   "id": "3650e803",
   "metadata": {},
   "outputs": [
    {
     "name": "stdout",
     "output_type": "stream",
     "text": [
      "Henry Ndugwa\n"
     ]
    }
   ],
   "source": [
    "print('Henry', 'Ndugwa')"
   ]
  },
  {
   "cell_type": "markdown",
   "id": "e3409115",
   "metadata": {},
   "source": [
    "Tab as a seperator"
   ]
  },
  {
   "cell_type": "code",
   "execution_count": 37,
   "id": "0d5a8b54",
   "metadata": {},
   "outputs": [],
   "source": [
    "test=open('text.txt', 'a')\n",
    "print('Henry','Ndugwa', sep='\\t', end='.' ,file=test)\n",
    "test.close()"
   ]
  },
  {
   "cell_type": "code",
   "execution_count": 39,
   "id": "2dbb6f38",
   "metadata": {},
   "outputs": [
    {
     "data": {
      "text/plain": [
       "1"
      ]
     },
     "execution_count": 39,
     "metadata": {},
     "output_type": "execute_result"
    }
   ],
   "source": [
    "3//3\n",
    "\n",
    "\n"
   ]
  },
  {
   "cell_type": "code",
   "execution_count": 40,
   "id": "af935246",
   "metadata": {},
   "outputs": [],
   "source": [
    "def addition(x,y):\n",
    "    ans=x+y\n",
    "    return(ans)"
   ]
  },
  {
   "cell_type": "code",
   "execution_count": 41,
   "id": "4834f425",
   "metadata": {},
   "outputs": [
    {
     "data": {
      "text/plain": [
       "7"
      ]
     },
     "execution_count": 41,
     "metadata": {},
     "output_type": "execute_result"
    }
   ],
   "source": [
    "addition(3,4)"
   ]
  },
  {
   "cell_type": "code",
   "execution_count": 1,
   "id": "4ec881d3",
   "metadata": {},
   "outputs": [],
   "source": [
    "import functions as fn"
   ]
  },
  {
   "cell_type": "code",
   "execution_count": 45,
   "id": "d22d21ad",
   "metadata": {},
   "outputs": [
    {
     "data": {
      "text/plain": [
       "'UGCUACUAGCUACGAU'"
      ]
     },
     "execution_count": 45,
     "metadata": {},
     "output_type": "execute_result"
    }
   ],
   "source": [
    "fn.transcribe('ATCGTAGCTAGTAGCA')"
   ]
  },
  {
   "cell_type": "code",
   "execution_count": 2,
   "id": "ddd84256",
   "metadata": {},
   "outputs": [
    {
     "ename": "NameError",
     "evalue": "name 'codon' is not defined",
     "output_type": "error",
     "traceback": [
      "\u001b[0;31m---------------------------------------------------------------------------\u001b[0m",
      "\u001b[0;31mNameError\u001b[0m                                 Traceback (most recent call last)",
      "\u001b[0;32m/tmp/ipykernel_9081/1423413989.py\u001b[0m in \u001b[0;36m<module>\u001b[0;34m\u001b[0m\n\u001b[0;32m----> 1\u001b[0;31m \u001b[0mfn\u001b[0m\u001b[0;34m.\u001b[0m\u001b[0mtranslate\u001b[0m\u001b[0;34m(\u001b[0m\u001b[0;34m'UGCUACUAGCUACGAU'\u001b[0m\u001b[0;34m)\u001b[0m\u001b[0;34m\u001b[0m\u001b[0;34m\u001b[0m\u001b[0m\n\u001b[0m",
      "\u001b[0;32m~/eanbit_cohort4/programing/python/Python4BioinformaticsV2/Notebooks/functions.py\u001b[0m in \u001b[0;36mtranslate\u001b[0;34m(mrna)\u001b[0m\n\u001b[1;32m     23\u001b[0m     \u001b[0;32mfor\u001b[0m \u001b[0mi\u001b[0m \u001b[0;32min\u001b[0m \u001b[0mmrna\u001b[0m\u001b[0;34m:\u001b[0m\u001b[0;34m\u001b[0m\u001b[0;34m\u001b[0m\u001b[0m\n\u001b[1;32m     24\u001b[0m         \u001b[0;31m#print (i)\u001b[0m\u001b[0;34m\u001b[0m\u001b[0;34m\u001b[0m\u001b[0m\n\u001b[0;32m---> 25\u001b[0;31m         \u001b[0;32mfor\u001b[0m \u001b[0mkey\u001b[0m \u001b[0;32min\u001b[0m \u001b[0mcodon\u001b[0m\u001b[0;34m.\u001b[0m\u001b[0mkeys\u001b[0m\u001b[0;34m(\u001b[0m\u001b[0;34m)\u001b[0m\u001b[0;34m:\u001b[0m\u001b[0;34m\u001b[0m\u001b[0;34m\u001b[0m\u001b[0m\n\u001b[0m\u001b[1;32m     26\u001b[0m             \u001b[0;32mif\u001b[0m \u001b[0mi\u001b[0m \u001b[0;34m==\u001b[0m\u001b[0mkey\u001b[0m\u001b[0;34m:\u001b[0m\u001b[0;34m\u001b[0m\u001b[0;34m\u001b[0m\u001b[0m\n\u001b[1;32m     27\u001b[0m                 \u001b[0ma\u001b[0m \u001b[0;34m+=\u001b[0m\u001b[0mcodon\u001b[0m\u001b[0;34m[\u001b[0m\u001b[0mkey\u001b[0m\u001b[0;34m]\u001b[0m\u001b[0;34m\u001b[0m\u001b[0;34m\u001b[0m\u001b[0m\n",
      "\u001b[0;31mNameError\u001b[0m: name 'codon' is not defined"
     ]
    }
   ],
   "source": [
    "fn.translate('UGCUACUAGCUACGAU')"
   ]
  },
  {
   "cell_type": "code",
   "execution_count": 1,
   "id": "af0f6b46-3d9d-41cc-9046-aa6545cc574b",
   "metadata": {},
   "outputs": [
    {
     "data": {
      "text/plain": [
       "False"
      ]
     },
     "execution_count": 1,
     "metadata": {},
     "output_type": "execute_result"
    }
   ],
   "source": [
    "def validate_dna(dna_seq):\n",
    "    \n",
    "    \"\"\"\n",
    "    returns True if DNA sequence is valid and false if not\n",
    "    \"\"\"\n",
    "    flag = True\n",
    "    set_dna = set(dna_seq)\n",
    "    if set_dna ==4:\n",
    "        flag = True\n",
    "    else:flag=False\n",
    "\n",
    "    return flag\n",
    "\n",
    "validate_dna(\"CAGTGATGATGACGAT\")\n"
   ]
  },
  {
   "cell_type": "code",
   "execution_count": null,
   "id": "92a24d5c-1e07-470b-9967-30cf05623d47",
   "metadata": {},
   "outputs": [],
   "source": []
  }
 ],
 "metadata": {
  "kernelspec": {
   "display_name": "Python 3 (ipykernel)",
   "language": "python",
   "name": "python3"
  },
  "language_info": {
   "codemirror_mode": {
    "name": "ipython",
    "version": 3
   },
   "file_extension": ".py",
   "mimetype": "text/x-python",
   "name": "python",
   "nbconvert_exporter": "python",
   "pygments_lexer": "ipython3",
   "version": "3.9.7"
  }
 },
 "nbformat": 4,
 "nbformat_minor": 5
}
