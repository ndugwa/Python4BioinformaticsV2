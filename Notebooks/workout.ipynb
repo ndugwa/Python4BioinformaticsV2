{
 "cells": [
  {
   "cell_type": "markdown",
   "metadata": {},
   "source": [
    "# Exercices"
   ]
  },
  {
   "cell_type": "code",
   "execution_count": 31,
   "metadata": {},
   "outputs": [
    {
     "name": "stdout",
     "output_type": "stream",
     "text": [
      "What is your name?\n"
     ]
    },
    {
     "name": "stdin",
     "output_type": "stream",
     "text": [
      "None henry\n"
     ]
    },
    {
     "name": "stdout",
     "output_type": "stream",
     "text": [
      "Hello henry\n"
     ]
    }
   ],
   "source": [
    "name = input(print('What is your name?'))\n",
    "print('Hello ' + name)"
   ]
  },
  {
   "cell_type": "markdown",
   "metadata": {},
   "source": [
    "# Exercise on strings\n",
    "qn. Calculate the % GC and % AT content in the trna sequence\n",
    "trna='AAGGGCTTAGCTTAATTAAAGTGGCTGATTTGCGTTCAGTTGATGCAGAGTGGGGTTTTGCAGTCCTTA'"
   ]
  },
  {
   "cell_type": "code",
   "execution_count": 18,
   "metadata": {},
   "outputs": [
    {
     "name": "stdout",
     "output_type": "stream",
     "text": [
      "percentage GC content in trna is 43.47826086956522 and percentage AT content is 56.52173913043478\n",
      "percentage GC content in trna is 43.47826% and percentage AT content is 56.52174%\n",
      "percentatg GC content in trna is 43.48% and percentage AT content is 56.52%\n",
      "percentage GC content in trna is 43.48% and percentage AT content is 56.52%\n"
     ]
    }
   ],
   "source": [
    "trna='AAGGGCTTAGCTTAATTAAAGTGGCTGATTTGCGTTCAGTTGATGCAGAGTGGGGTTTTGCAGTCCTTA'\n",
    "len_trna = len(trna)\n",
    "no_A_in_trna = trna.count('A')\n",
    "no_T_in_trna = trna.count('T')\n",
    "no_G_in_trna = trna.count('G')\n",
    "no_C_in_trna = trna.count('C')\n",
    "total_AT_in_trna = no_A_in_trna + no_T_in_trna\n",
    "total_GC_in_trna = no_C_in_trna + no_G_in_trna\n",
    "perc_GC =(total_GC_in_trna /len_trna) * 100\n",
    "perc_AT = (total_AT_in_trna / len_trna) * 100\n",
    "print(\"percentage GC content in trna is \" +  str(perc_GC) + \" and percentage AT content is \" + str(perc_AT))\n",
    "print(\"percentage GC content in trna is \" +  '%.5f' % perc_GC + \"%\"+ \" and percentage AT content is \" + '%.5f' % perc_AT +\"%\")\n",
    "print(\"percentatg GC content in trna is \" + '%.2f' % perc_GC + \"%\" + \" and percentage AT content is \" + '%.2f' % perc_AT + \"%\")\n",
    "print(\"percentage GC content in trna is %.2f\" %perc_GC + \"%\" + \" and percentage AT content is %.2f\"  %perc_AT + \"%\")"
   ]
  },
  {
   "cell_type": "code",
   "execution_count": 1,
   "metadata": {},
   "outputs": [],
   "source": [
    "#help(str)\n"
   ]
  },
  {
   "cell_type": "markdown",
   "metadata": {},
   "source": [
    "## Exercise:\n",
    "\n",
    "qn2. Given the following amino acid sequence (MNKMDLVADVAEKTDLSKAKATEVIDAVFA), find the first, last and the 5th amino acids in the sequence.\n",
    "The above amino acid is a bacterial restriction enzyme that recognizes \"TCCGGA\". Find the first restriction site in the following sequence: AAAAATCCCGAGGCGGCTATATAGGGCTCCGGAGGCGTAATATAAAA\n",
    "\n"
   ]
  },
  {
   "cell_type": "code",
   "execution_count": 13,
   "metadata": {},
   "outputs": [
    {
     "name": "stdout",
     "output_type": "stream",
     "text": [
      "The first amino acid is M \n",
      "The last amino acid is A \n",
      "The 5th amino acid is D\n",
      "The first restriction sit is located at 27th position\n",
      "TCCGGA\n"
     ]
    }
   ],
   "source": [
    "Amino_seq =\"MNKMDLVADVAEKTDLSKAKATEVIDAVFA\"\n",
    "Seq = \"AAAAATCCCGAGGCGGCTATATAGGGCTCCGGAGGCGTAATATAAAA\"\n",
    "print( \"The first amino acid is %s \" %Amino_seq[0])\n",
    "print( \"The last amino acid is %s \" %Amino_seq[-1])\n",
    "print( \"The 5th amino acid is %s\" %Amino_seq[4:5])\n",
    "print(\"The first restriction sit is located at %d\" %Seq.find(\"TCCGGA\") + \"th position\")\n",
    "print( Seq[Seq.find(\"TCCGGA\"):(Seq.find(\"TCCGGA\")+6 )])\n",
    "print()"
   ]
  },
  {
   "cell_type": "markdown",
   "metadata": {},
   "source": [
    "# DATA STRUCTURES\n",
    "## List\n",
    "looping into a list"
   ]
  },
  {
   "cell_type": "code",
   "execution_count": 32,
   "metadata": {},
   "outputs": [
    {
     "name": "stdout",
     "output_type": "stream",
     "text": [
      "[1, 36, 4, 9]\n",
      "[1, 4, 9, 36]\n",
      "[1, 36, 4, 9]\n"
     ]
    }
   ],
   "source": [
    "my_list = []\n",
    "for i in [1,6,2,3]:\n",
    "    my_list.append(i**2)\n",
    "print(my_list)\n",
    "print(sorted(my_list))\n",
    "print(my_list)\n",
    "\n",
    "    \n",
    "    "
   ]
  },
  {
   "cell_type": "code",
   "execution_count": 36,
   "metadata": {},
   "outputs": [
    {
     "name": "stdout",
     "output_type": "stream",
     "text": [
      "A = [1, 2, 2, 3, 5, 9]\n",
      "B = [1, 2, 2, 3, 7, 5]\n"
     ]
    }
   ],
   "source": [
    "lista = [1,2,2,3,7,5]\n",
    "listb = lista[:]\n",
    "lista.sort()\n",
    "lista.pop()\n",
    "lista.append(9)\n",
    "print(\"A =\",lista)\n",
    "print(\"B =\",listb)"
   ]
  },
  {
   "cell_type": "code",
   "execution_count": 37,
   "metadata": {},
   "outputs": [],
   "source": [
    "from IPython.display import HTML\n"
   ]
  },
  {
   "cell_type": "code",
   "execution_count": 38,
   "metadata": {},
   "outputs": [
    {
     "data": {
      "text/html": [
       "<iframe width=\"800\" height=\"500\" frameborder=\"0\" src=\"\"http://pythontutor.com/iframe-embed.html#code=lista%3D%20%5B2,1,4,3%5D%0Alistb%20%3D%20lista%0Aprint%28listb%29%0Alista.sort%28%29%0Alista.pop%28%29%0Alista.append%289%29%0Aprint%28%22A%20%3D%22,lista%29%0Aprint%28%22B%20%3D%22,listb%29&codeDivHeight=400&codeDivWidth=350&cumulative=false&curInstr=8&heapPrimitives=nevernest&origin=opt-frontend.js&py=3&rawInputLstJSON=%5B%5D&textReferences=false\"> </iframe>\n",
       "from IPython.display import Image\n",
       "Image(\"execution.png\")\n"
      ],
      "text/plain": [
       "<IPython.core.display.HTML object>"
      ]
     },
     "metadata": {},
     "output_type": "display_data"
    }
   ],
   "source": [
    "%%html\n",
    "<iframe width=\"800\" height=\"500\" frameborder=\"0\" src=\"\"http://pythontutor.com/iframe-embed.html#code=lista%3D%20%5B2,1,4,3%5D%0Alistb%20%3D%20lista%0Aprint%28listb%29%0Alista.sort%28%29%0Alista.pop%28%29%0Alista.append%289%29%0Aprint%28%22A%20%3D%22,lista%29%0Aprint%28%22B%20%3D%22,listb%29&codeDivHeight=400&codeDivWidth=350&cumulative=false&curInstr=8&heapPrimitives=nevernest&origin=opt-frontend.js&py=3&rawInputLstJSON=%5B%5D&textReferences=false\"> </iframe>\n",
    "from IPython.display import Image\n",
    "Image(\"execution.png\")"
   ]
  },
  {
   "cell_type": "code",
   "execution_count": 40,
   "metadata": {},
   "outputs": [
    {
     "data": {
      "text/plain": [
       "[15, 17, 37]"
      ]
     },
     "execution_count": 40,
     "metadata": {},
     "output_type": "execute_result"
    }
   ],
   "source": [
    "into_list =[]\n",
    "for i in [1,2,3]:\n",
    "    if i%2 == 1 :\n",
    "        for j in [4,5,7]:\n",
    "            if j >= i+4:\n",
    "                into_list.append(10*i+j)\n",
    "                \n",
    "into_list                \n",
    "                \n"
   ]
  },
  {
   "cell_type": "code",
   "execution_count": 39,
   "metadata": {},
   "outputs": [
    {
     "name": "stdout",
     "output_type": "stream",
     "text": [
      "(1, 0)\n"
     ]
    }
   ],
   "source": [
    "y= divmod(3,3)\n",
    "print(y)\n"
   ]
  },
  {
   "cell_type": "code",
   "execution_count": 43,
   "metadata": {},
   "outputs": [
    {
     "data": {
      "text/plain": [
       "\u001b[0;31mSignature:\u001b[0m \u001b[0mdivmod\u001b[0m\u001b[0;34m(\u001b[0m\u001b[0mx\u001b[0m\u001b[0;34m,\u001b[0m \u001b[0my\u001b[0m\u001b[0;34m,\u001b[0m \u001b[0;34m/\u001b[0m\u001b[0;34m)\u001b[0m\u001b[0;34m\u001b[0m\u001b[0;34m\u001b[0m\u001b[0m\n",
       "\u001b[0;31mDocstring:\u001b[0m Return the tuple (x//y, x%y).  Invariant: div*y + mod == x.\n",
       "\u001b[0;31mType:\u001b[0m      builtin_function_or_method\n"
      ]
     },
     "metadata": {},
     "output_type": "display_data"
    }
   ],
   "source": [
    "?divmod\n"
   ]
  },
  {
   "cell_type": "code",
   "execution_count": 2,
   "metadata": {},
   "outputs": [],
   "source": [
    "# help(list)\n"
   ]
  },
  {
   "cell_type": "code",
   "execution_count": 21,
   "metadata": {},
   "outputs": [],
   "source": [
    "lis =[]"
   ]
  },
  {
   "cell_type": "code",
   "execution_count": 45,
   "metadata": {},
   "outputs": [
    {
     "data": {
      "text/plain": [
       "\u001b[0;31mSignature:\u001b[0m \u001b[0mlis\u001b[0m\u001b[0;34m.\u001b[0m\u001b[0mreverse\u001b[0m\u001b[0;34m(\u001b[0m\u001b[0;34m)\u001b[0m\u001b[0;34m\u001b[0m\u001b[0;34m\u001b[0m\u001b[0m\n",
       "\u001b[0;31mDocstring:\u001b[0m Reverse *IN PLACE*.\n",
       "\u001b[0;31mType:\u001b[0m      builtin_function_or_method\n"
      ]
     },
     "metadata": {},
     "output_type": "display_data"
    }
   ],
   "source": [
    "?lis.reverse"
   ]
  },
  {
   "cell_type": "code",
   "execution_count": null,
   "metadata": {},
   "outputs": [],
   "source": [
    "10*i+j for i [in [1,2,3] for j in [5,7]]"
   ]
  },
  {
   "cell_type": "code",
   "execution_count": 25,
   "metadata": {},
   "outputs": [
    {
     "name": "stdout",
     "output_type": "stream",
     "text": [
      "[15, 17, 25, 27, 35, 37]\n"
     ]
    }
   ],
   "source": [
    "list1 =[]\n",
    "for i in [1,2,3]:\n",
    "    for j in [5,7]:\n",
    "        list1.append(10*i+j)\n",
    "        \n",
    "print(list1)        "
   ]
  },
  {
   "cell_type": "code",
   "execution_count": 29,
   "metadata": {},
   "outputs": [
    {
     "data": {
      "text/plain": [
       "{'A', 'C', 'G', 'T', 'a'}"
      ]
     },
     "execution_count": 29,
     "metadata": {},
     "output_type": "execute_result"
    }
   ],
   "source": [
    "set('CTGCAGCTa')"
   ]
  },
  {
   "cell_type": "code",
   "execution_count": 3,
   "metadata": {},
   "outputs": [],
   "source": [
    "# help(dict)"
   ]
  },
  {
   "cell_type": "code",
   "execution_count": 41,
   "metadata": {},
   "outputs": [
    {
     "data": {
      "text/plain": [
       "\u001b[0;31mInit signature:\u001b[0m \u001b[0mzip\u001b[0m\u001b[0;34m(\u001b[0m\u001b[0mself\u001b[0m\u001b[0;34m,\u001b[0m \u001b[0;34m/\u001b[0m\u001b[0;34m,\u001b[0m \u001b[0;34m*\u001b[0m\u001b[0margs\u001b[0m\u001b[0;34m,\u001b[0m \u001b[0;34m**\u001b[0m\u001b[0mkwargs\u001b[0m\u001b[0;34m)\u001b[0m\u001b[0;34m\u001b[0m\u001b[0;34m\u001b[0m\u001b[0m\n",
       "\u001b[0;31mDocstring:\u001b[0m     \n",
       "zip(*iterables) --> zip object\n",
       "\n",
       "Return a zip object whose .__next__() method returns a tuple where\n",
       "the i-th element comes from the i-th iterable argument.  The .__next__()\n",
       "method continues until the shortest iterable in the argument sequence\n",
       "is exhausted and then it raises StopIteration.\n",
       "\u001b[0;31mType:\u001b[0m           type\n",
       "\u001b[0;31mSubclasses:\u001b[0m     \n"
      ]
     },
     "metadata": {},
     "output_type": "display_data"
    }
   ],
   "source": [
    "?zip\n"
   ]
  },
  {
   "cell_type": "markdown",
   "metadata": {},
   "source": [
    "##Exercise\n",
    "\n",
    "create a list of old numbes between 6 and 36"
   ]
  },
  {
   "cell_type": "code",
   "execution_count": 69,
   "metadata": {},
   "outputs": [],
   "source": [
    "odd_number =[]\n",
    "for i in range(7,36,2):\n",
    "    odd_number.append(i)"
   ]
  },
  {
   "cell_type": "code",
   "execution_count": 70,
   "metadata": {},
   "outputs": [],
   "source": [
    "#odd2 =[if i%2==1 for i in range(6,36) ]"
   ]
  },
  {
   "cell_type": "code",
   "execution_count": null,
   "metadata": {},
   "outputs": [],
   "source": []
  },
  {
   "cell_type": "code",
   "execution_count": null,
   "metadata": {},
   "outputs": [],
   "source": []
  },
  {
   "cell_type": "code",
   "execution_count": 53,
   "metadata": {},
   "outputs": [
    {
     "data": {
      "text/plain": [
       "[7, 9, 11, 13, 15, 17, 19, 21, 23, 25, 27, 29, 31, 33, 35]"
      ]
     },
     "execution_count": 53,
     "metadata": {},
     "output_type": "execute_result"
    }
   ],
   "source": [
    "odd_number"
   ]
  },
  {
   "cell_type": "code",
   "execution_count": 54,
   "metadata": {},
   "outputs": [],
   "source": [
    "odd1 =[]\n",
    "for i in range(6,36):\n",
    "    if i%2==1:\n",
    "        odd1.append(i)\n",
    "        "
   ]
  },
  {
   "cell_type": "code",
   "execution_count": 55,
   "metadata": {},
   "outputs": [
    {
     "data": {
      "text/plain": [
       "[7, 9, 11, 13, 15, 17, 19, 21, 23, 25, 27, 29, 31, 33, 35]"
      ]
     },
     "execution_count": 55,
     "metadata": {},
     "output_type": "execute_result"
    }
   ],
   "source": [
    "odd1"
   ]
  },
  {
   "cell_type": "markdown",
   "metadata": {},
   "source": [
    "#Exercise\n",
    "\n",
    "translate AAAAATCCCGAGGCGGCTATATAGGGCTCCGGAGGCGTAATATAAAA in amino acid"
   ]
  },
  {
   "cell_type": "code",
   "execution_count": 3,
   "metadata": {},
   "outputs": [
    {
     "data": {
      "text/plain": [
       "'GAAAAUGGAGCUGUCUUGGCAUGUAGUCUUUAUUGCCCUGCUAAGUUUUUCAUGCUGGGGGUCAGACUGGGAGUCUGAUAGAAAUUUCAUUUCCACCGCU'"
      ]
     },
     "execution_count": 3,
     "metadata": {},
     "output_type": "execute_result"
    }
   ],
   "source": [
    "#transcribe to RNA\n",
    "#if dna is a coding strand\n",
    "#dna ='AAAAATCCCGAGGCGGCTATATAGGGCTCCGGAGGCGTAATATAAAA'\n",
    "dna = 'GAAAATGGAGCTGTCTTGGCATGTAGTCTTTATTGCCCTGCTAAGTTTTTCATGCTGGGGGTCAGACTGGGAGTCTGATAGAAATTTCATTTCCACCGCT'\n",
    "mrna=dna.replace('T','U')\n",
    "mrna\n",
    "\n",
    "#rna_dic = {'A': 'U', 'T':'A', 'C':'G', 'G':'C'}\n",
    "#rna1 = ''\n",
    "#for nuc in dna:\n",
    "   # rna1 = rna_dic[nuc] + rna1\n",
    "    \n",
    "    "
   ]
  },
  {
   "cell_type": "code",
   "execution_count": 26,
   "metadata": {},
   "outputs": [],
   "source": [
    "#function for transcribing\n",
    "#def transcribe(dna_string):\n",
    " #   rna_dic = {'A': 'U', 'T':'A', 'C':'G', 'G':'C'}\n",
    "  #  rna = ''\n",
    "   # for nuc in dna_string:\n",
    "    #    rna = rna_dic[nuc] + rna\n",
    "    #return(rna)    \n",
    "    "
   ]
  },
  {
   "cell_type": "code",
   "execution_count": 13,
   "metadata": {},
   "outputs": [],
   "source": [
    "#mrna=transcribe(dna)"
   ]
  },
  {
   "cell_type": "code",
   "execution_count": 14,
   "metadata": {},
   "outputs": [
    {
     "data": {
      "text/plain": [
       "'UUUUAUAUUACGCCUCCGGAGCCCUAUAUAGCCGCCUCGGGAUUUUU'"
      ]
     },
     "execution_count": 14,
     "metadata": {},
     "output_type": "execute_result"
    }
   ],
   "source": [
    "#mrna"
   ]
  },
  {
   "cell_type": "code",
   "execution_count": 3,
   "metadata": {},
   "outputs": [
    {
     "data": {
      "text/plain": [
       "'UUUUAUAUUACGCCUCCGGAGCCCUAUAUAGCCGCCUCGGGAUUUUU'"
      ]
     },
     "execution_count": 3,
     "metadata": {},
     "output_type": "execute_result"
    }
   ],
   "source": [
    "#rna1"
   ]
  },
  {
   "cell_type": "code",
   "execution_count": 4,
   "metadata": {},
   "outputs": [
    {
     "name": "stdout",
     "output_type": "stream",
     "text": [
      "33 32 32\n",
      "33 32 32\n",
      "ENGAVLACSLYCPAKFFMLGVRLGV**KFHFHR\n",
      "KMELSWHVVFIALLSFSCWGSDWESDRNFIsT\n",
      "KWSCLGM*SLLPC*VFHAGGQTGSLIEISFPP\n"
     ]
    }
   ],
   "source": [
    "#codon table\n",
    "codon = {\"UUU\":\"F\", \"UUC\":\"F\", \"UUA\":\"L\", \"UUG\":\"L\",\n",
    "    \"UCU\":\"S\", \"UCC\":\"s\", \"UCA\":\"S\", \"UCG\":\"S\",\n",
    "    \"UAU\":\"Y\", \"UAC\":\"Y\", \"UAA\":\"*\", \"UAG\":\"*\",\n",
    "    \"UGU\":\"C\", \"UGC\":\"C\", \"UGA\":\"*\", \"UGG\":\"W\",\n",
    "    \"CUU\":\"L\", \"CUC\":\"L\", \"CUA\":\"L\", \"CUG\":\"L\",\n",
    "    \"CCU\":\"P\", \"CCC\":\"P\", \"CCA\":\"P\", \"CCG\":\"P\",\n",
    "    \"CAU\":\"H\", \"CAC\":\"H\", \"CAA\":\"Q\", \"CAG\":\"Q\",\n",
    "    \"CGU\":\"R\", \"CGC\":\"R\", \"CGA\":\"R\", \"CGG\":\"R\",\n",
    "    \"AUU\":\"I\", \"AUC\":\"I\", \"AUA\":\"I\", \"AUG\":\"M\",\n",
    "    \"ACU\":\"T\", \"ACC\":\"T\", \"ACA\":\"T\", \"ACG\":\"T\",\n",
    "    \"AAU\":\"N\", \"AAC\":\"N\", \"AAA\":\"K\", \"AAG\":\"K\",\n",
    "    \"AGU\":\"S\", \"AGC\":\"S\", \"AGA\":\"R\", \"AGG\":\"R\",\n",
    "    \"GUU\":\"V\", \"GUC\":\"V\", \"GUA\":\"V\", \"GUG\":\"V\",\n",
    "    \"GCU\":\"A\", \"GCC\":\"A\", \"GCA\":\"A\", \"GCG\":\"A\",\n",
    "    \"GAU\":\"D\", \"GAC\":\"D\", \"GAA\":\"E\", \"GAG\":\"E\",\n",
    "    \"GGU\":\"G\", \"GGC\":\"G\", \"GGA\":\"G\", \"GGG\":\"G\",}\n",
    "#Reading frames\n",
    "def reading_frame(i=0,mrna=''):\n",
    "    \"\"\"generate reading frame from mrna\"\"\"\n",
    "    codon_frame=[]\n",
    "    for i in range(i,len(mrna),3):\n",
    "        codon_frame.append(mrna[i:i+3])\n",
    "    if (len(codon_frame)-1) !=3:\n",
    "        codon_frame.pop()\n",
    "    return(codon_frame)\n",
    "reading_frame1=reading_frame(0,mrna)\n",
    "reading_frame2=reading_frame(1,mrna)\n",
    "reading_frame3=reading_frame(2,mrna)\n",
    "print(len(reading_frame1), len(reading_frame2),len(reading_frame3), )\n",
    "#translate reading frames\n",
    "def translate(mrna):\n",
    "    \"\"\"Translate mrna reading frame to amino acids\n",
    "    transration is stop upon a stop codon\"\"\"\n",
    "    amino_seq=''\n",
    "    for i in mrna:\n",
    "        #print (i)\n",
    "        #if i in ['UAG','UAA','UGA']:\n",
    "           # break\n",
    "        for key in codon.keys():\n",
    "        \n",
    "            if i ==key:\n",
    "                amino_seq +=codon[key]\n",
    "    return(amino_seq)\n",
    "print(len(translate(reading_frame1)),len(translate(reading_frame2)),len(translate(reading_frame3)))\n",
    "print(translate(reading_frame1),translate(reading_frame2),translate(reading_frame3),sep='\\n')\n"
   ]
  },
  {
   "cell_type": "code",
   "execution_count": 4,
   "metadata": {},
   "outputs": [
    {
     "name": "stdout",
     "output_type": "stream",
     "text": [
      "47\n"
     ]
    }
   ],
   "source": [
    "testrna =rna1\n",
    "codon_list1=[]\n",
    "for i in range(0,len(testrna),3):\n",
    "    codon_list1.append(testrna[i:i+3])\n",
    "\n",
    "print(len(testrna))\n",
    "\n",
    "    \n"
   ]
  },
  {
   "cell_type": "code",
   "execution_count": 5,
   "metadata": {},
   "outputs": [],
   "source": [
    "codon_list1\n",
    "a=''\n",
    "for i in codon_list1:\n",
    "    #print (i)\n",
    "    for key in codon.keys():\n",
    "        if i ==key:\n",
    "            a = a + codon[key]\n",
    "           \n",
    "     \n",
    "            "
   ]
  },
  {
   "cell_type": "code",
   "execution_count": 6,
   "metadata": {},
   "outputs": [
    {
     "name": "stdout",
     "output_type": "stream",
     "text": [
      "FYITPPEPYIAASGF\n",
      "['UUU', 'UAU', 'AUU', 'ACG', 'CCU', 'CCG', 'GAG', 'CCC', 'UAU', 'AUA', 'GCC', 'GCC', 'UCG', 'GGA', 'UUU', 'UU']\n",
      "15\n",
      "16\n"
     ]
    }
   ],
   "source": [
    "a\n",
    "print(a)\n",
    "print(codon_list1)\n",
    "print(len(a))\n",
    "print(len(codon_list1))"
   ]
  },
  {
   "cell_type": "code",
   "execution_count": 5,
   "metadata": {},
   "outputs": [
    {
     "name": "stdout",
     "output_type": "stream",
     "text": [
      "47\n"
     ]
    }
   ],
   "source": [
    "testrna =rna1\n",
    "codon_list0=[]\n",
    "codon_list2=[]\n",
    "codon_list3=[]\n",
    "x=0\n",
    "while x<3:\n",
    "    x+=1\n",
    "    for i in range(x,len(testrna),3):\n",
    "        codon_list0.append(testrna[i:i+3])\n",
    "       # codon_list2.append(testrna[i:i+3])\n",
    "       # codon_list3.append(testrna[i:i+3])\n",
    "if (len(codon_list0)-1) !=3:\n",
    "    codon_list0.pop()\n",
    "        \n",
    "\n",
    "print(len(testrna))\n"
   ]
  },
  {
   "cell_type": "code",
   "execution_count": 6,
   "metadata": {},
   "outputs": [
    {
     "name": "stdout",
     "output_type": "stream",
     "text": [
      "['UUU', 'AUA', 'UUA', 'CGC', 'CUC', 'CGG', 'AGC', 'CCU', 'AUA', 'UAG', 'CCG', 'CCU', 'CGG', 'GAU', 'UUU', 'U', 'UUA', 'UAU', 'UAC', 'GCC', 'UCC', 'GGA', 'GCC', 'CUA', 'UAU', 'AGC', 'CGC', 'CUC', 'GGG', 'AUU', 'UUU', 'UAU', 'AUU', 'ACG', 'CCU', 'CCG', 'GAG', 'CCC', 'UAU', 'AUA', 'GCC', 'GCC', 'UCG', 'GGA', 'UUU']\n",
      "[]\n",
      "[]\n"
     ]
    }
   ],
   "source": [
    "print(codon_list0,codon_list2,codon_list3, sep='\\n')\n"
   ]
  },
  {
   "cell_type": "code",
   "execution_count": 144,
   "metadata": {},
   "outputs": [],
   "source": [
    "\n",
    "for key in codon.keys():\n",
    "    if key==testrna[y:x]:\n",
    "        aa = codon[key] + aa\n",
    "    elif key==testrna[(y+1):(x+1)]:\n",
    "         aa= codon[key] +aa\n",
    "        \n",
    "    \n",
    "    "
   ]
  },
  {
   "cell_type": "code",
   "execution_count": 145,
   "metadata": {},
   "outputs": [
    {
     "data": {
      "text/plain": [
       "'CM'"
      ]
     },
     "execution_count": 145,
     "metadata": {},
     "output_type": "execute_result"
    }
   ],
   "source": [
    "aa\n",
    "\n"
   ]
  },
  {
   "cell_type": "markdown",
   "metadata": {},
   "source": [
    "## creat a function that takes two argument and returns a greeting\n",
    "'Hi first last'\n",
    "## A greating tha takes two lists, list one has first (3) or any numbers. names and list 2 has last name\n",
    "'Hi first last'\n"
   ]
  },
  {
   "cell_type": "code",
   "execution_count": 5,
   "metadata": {},
   "outputs": [],
   "source": [
    "def greeting1(x,y):\n",
    "    \"\"\"\n",
    "    takes two names as args  and prints Hi + two names\n",
    "    \"\"\"\n",
    "    greet =('Hi ' + \"%s %s \" % (x , y))\n",
    "    return(greet)\n"
   ]
  },
  {
   "cell_type": "code",
   "execution_count": null,
   "metadata": {},
   "outputs": [],
   "source": []
  },
  {
   "cell_type": "code",
   "execution_count": 6,
   "metadata": {},
   "outputs": [
    {
     "data": {
      "text/plain": [
       "'Hi Hi hk '"
      ]
     },
     "execution_count": 6,
     "metadata": {},
     "output_type": "execute_result"
    }
   ],
   "source": [
    "#h=greeting(\"Henry\",\"Ndugwa\")\n",
    "greeting1('Hi','hk')"
   ]
  },
  {
   "cell_type": "code",
   "execution_count": 33,
   "metadata": {},
   "outputs": [],
   "source": [
    "def greeting2(x,y):\n",
    "    \"\"\"\n",
    "    takes two lists of names as args  and prints Hi + two names in the Two lists\n",
    "    \"\"\"\n",
    "    for i,name in enumerate(x):\n",
    "        t= name + y[i]\n",
    "        s=' '.join(t)\n",
    "        p= print('Hi',s)\n",
    "    return(p)\n"
   ]
  },
  {
   "cell_type": "code",
   "execution_count": 34,
   "metadata": {},
   "outputs": [
    {
     "name": "stdout",
     "output_type": "stream",
     "text": [
      "Hi A a B X\n",
      "Hi b C c Y\n"
     ]
    }
   ],
   "source": [
    "first=[['A','a','B'],['b','C','c']]\n",
    "last=[['X'], ['Y']]\n",
    "\n",
    "greeting2(first,last)"
   ]
  },
  {
   "cell_type": "code",
   "execution_count": 36,
   "metadata": {},
   "outputs": [],
   "source": [
    "# first=[['A','a','B'],['b','C','c']]\n",
    "# last=[['X'], ['Y']]\n",
    "# for i,name in enumerate(first):\n",
    "#    # for j in first:\n",
    "#     t= name + last[i]\n",
    "#     s=''.join(t)\n",
    "#     print(s)\n",
    "        \n",
    "\n",
    "        "
   ]
  },
  {
   "cell_type": "code",
   "execution_count": 18,
   "metadata": {},
   "outputs": [
    {
     "name": "stdout",
     "output_type": "stream",
     "text": [
      "['T', 'T', 'T', 'T', 'T', 'T']\n"
     ]
    }
   ],
   "source": [
    "from itertools import groupby, cycle\n",
    "with open ('../Data/example.fasta') as s:\n",
    "    file=s.read()\n",
    "    print(sorted([list(g) for k,g in groupby(file)], key=len)[-1])\n"
   ]
  },
  {
   "cell_type": "code",
   "execution_count": 19,
   "metadata": {},
   "outputs": [
    {
     "name": "stdout",
     "output_type": "stream",
     "text": [
      "['T', 'T', 'T', 'T', 'T']\n"
     ]
    }
   ],
   "source": [
    "from itertools import groupby\n",
    "s = 'GAAAATGGAGCTGTCTTGGCATGTAGTCTTTATTGCCCTGCTAAGTTTTTCATGCTGGGG'\n",
    "print(sorted([list(g) for k,g in groupby(s)], key=len)[-1])\n"
   ]
  },
  {
   "cell_type": "code",
   "execution_count": null,
   "metadata": {},
   "outputs": [],
   "source": []
  },
  {
   "cell_type": "code",
   "execution_count": 27,
   "metadata": {},
   "outputs": [],
   "source": [
    "def find_duplicate(x):\n",
    "    result = {}\n",
    "    for char in set(x):\n",
    "        result[char]=x.count(char)\n",
    "    return result\n"
   ]
  },
  {
   "cell_type": "code",
   "execution_count": 28,
   "metadata": {},
   "outputs": [
    {
     "data": {
      "text/plain": [
       "{'T': 22, 'G': 17, 'C': 10, 'A': 11}"
      ]
     },
     "execution_count": 28,
     "metadata": {},
     "output_type": "execute_result"
    }
   ],
   "source": [
    "find_duplicate(s)"
   ]
  },
  {
   "cell_type": "code",
   "execution_count": null,
   "metadata": {},
   "outputs": [],
   "source": []
  }
 ],
 "metadata": {
  "kernelspec": {
   "display_name": "Python 3 (ipykernel)",
   "language": "python",
   "name": "python3"
  },
  "language_info": {
   "codemirror_mode": {
    "name": "ipython",
    "version": 3
   },
   "file_extension": ".py",
   "mimetype": "text/x-python",
   "name": "python",
   "nbconvert_exporter": "python",
   "pygments_lexer": "ipython3",
   "version": "3.9.7"
  }
 },
 "nbformat": 4,
 "nbformat_minor": 4
}
