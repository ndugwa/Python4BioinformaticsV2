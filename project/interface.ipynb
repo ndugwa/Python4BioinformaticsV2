{
 "cells": [
  {
   "cell_type": "code",
   "execution_count": 31,
   "id": "3f78b890-b624-49be-a039-07b05705fa15",
   "metadata": {},
   "outputs": [],
   "source": [
    "#x = []\n",
    "#x= input(':')\n",
    "def display():\n",
    "    print('*' * 100),\n",
    "    print('*', 'PDB FILE ANALYZER',' '*78,'*')\n",
    "    print('*' * 100)\n",
    "    print('*', 'select an option from below:',' '*68 +'*')\n",
    "    print('*', ' '*96, '*')\n",
    "    print('*   ' , '1) Open a pdb file','(O)',\" \" *70, '*' )\n",
    "    print('*   ' , '2) Snformation','(I)'  ,\" \"*74, '*' )\n",
    "    print('*   ' , '3) Show histogram of amino acids ', ' (H)',\" \" *54, '*' )\n",
    "    print('*   ' , '4) Diplay secondary structure ', '(S)',\" \" *58, '*' )\n",
    "    print('*   ' , '5) Export PDB file ', '(X)',\" \" *69, '*' )\n",
    "    print('*   ' , '6) Exit' ,'(Q)',\" \"*81, '*' )    \n",
    "    print('*  ' , ' ' *93, ' * ' )\n",
    "    print('*  ' , ' ' *75, 'Current PDB: None ' , '*' )\n",
    "    print('*' *100)\n",
    "    x=input(':' )\n",
    "    return x\n"
   ]
  },
  {
   "cell_type": "code",
   "execution_count": 32,
   "id": "13128aa7-4e3e-45f4-a620-14177d37425a",
   "metadata": {},
   "outputs": [
    {
     "name": "stdout",
     "output_type": "stream",
     "text": [
      "****************************************************************************************************\n",
      "* PDB FILE ANALYZER                                                                                *\n",
      "****************************************************************************************************\n",
      "* select an option from below:                                                                     *\n",
      "*                                                                                                  *\n",
      "*    1) Open a pdb file (O)                                                                        *\n",
      "*    2) Snformation (I)                                                                            *\n",
      "*    3) Show histogram of amino acids   (H)                                                        *\n",
      "*    4) Diplay secondary structure  (S)                                                            *\n",
      "*    5) Export PDB file  (X)                                                                       *\n",
      "*    6) Exit (Q)                                                                                   *\n",
      "*                                                                                                  * \n",
      "*                                                                               Current PDB: None  *\n",
      "****************************************************************************************************\n"
     ]
    },
    {
     "name": "stdin",
     "output_type": "stream",
     "text": [
      ": 1\n"
     ]
    }
   ],
   "source": [
    "b=display()"
   ]
  },
  {
   "cell_type": "code",
   "execution_count": 33,
   "id": "35e0c19d-a52a-4ba1-822c-c46c24cfbe15",
   "metadata": {},
   "outputs": [
    {
     "data": {
      "text/plain": [
       "'1'"
      ]
     },
     "execution_count": 33,
     "metadata": {},
     "output_type": "execute_result"
    }
   ],
   "source": [
    "b\n"
   ]
  },
  {
   "cell_type": "code",
   "execution_count": null,
   "id": "19b4f6d3-381d-46e8-9fe6-4ab39c737fe1",
   "metadata": {},
   "outputs": [],
   "source": []
  },
  {
   "cell_type": "code",
   "execution_count": 182,
   "id": "86d1963a-7398-479e-86f3-a874b3203886",
   "metadata": {},
   "outputs": [],
   "source": [
    "def rec(m,n):\n",
    "    print('*'*n,'*'*n, sep='\\n'*m)"
   ]
  },
  {
   "cell_type": "code",
   "execution_count": 180,
   "id": "33900d98-da58-4c35-ae60-e0b615e6f1cc",
   "metadata": {},
   "outputs": [
    {
     "name": "stdout",
     "output_type": "stream",
     "text": [
      "****\n",
      "****\n"
     ]
    }
   ],
   "source": [
    "rec(1,4)"
   ]
  },
  {
   "cell_type": "code",
   "execution_count": 1,
   "id": "9e65006f-0afe-4dda-9d6c-caf601eefd26",
   "metadata": {},
   "outputs": [],
   "source": [
    "y= 'Current PDB: None'\n",
    "def display1():\n",
    "    print('*' * 100),\n",
    "    print('*', 'PDB FILE ANALYZER',' '*78,'*')\n",
    "    print('*' * 100)\n",
    "    print('*', 'select an option from below:',' '*68 +'*') \n",
    "    print('*', ' '*96, '*')\n",
    "    print('{:7s} {:2s} {:30s} {:>4s} {:51s} {:s}'.format('*' , '1)','Open a pdb file','(O)',' ', '*' ))\n",
    "    print('{:7s} {:2s} {:30s} {:>4s} {:51s} {:s}'.format('*' , '2)','Information' ,'(I)',' ', '*' ))\n",
    "    print('{:7s} {:2s} {:30s} {:>4s} {:51s} {:s}'.format('*' , '3)','Show histogram of amino acids' ,'(H)',' ', '*' ))\n",
    "    print('{:7s} {:2s} {:30s} {:>4s} {:51s} {:s}'.format('*' , '4)','Diplay secondary structure' ,'(S)',' ', '*' ))\n",
    "    print('{:7s} {:2s} {:30s} {:>4s} {:51s} {:s}'.format('*' , '5)','Export PDB file' ,'(X)',' ', '*' ))\n",
    "    print('{:7s} {:2s} {:30s} {:>4s} {:51s} {:s}'.format('*' , '6)','Exit' ,'(Q)',' ', '*' ))\n",
    "    print('{:7s} {:>90s} {:s}'.format('*',y , '*' ))\n",
    "    print('*' *100)\n",
    "    x=input(':' )\n",
    "    return x\n",
    "\n"
   ]
  },
  {
   "cell_type": "code",
   "execution_count": 280,
   "id": "6b38913b-d456-488f-8af3-92298ea5b3d1",
   "metadata": {},
   "outputs": [
    {
     "name": "stdout",
     "output_type": "stream",
     "text": [
      "****************************************************************************************************\n",
      "* PDB FILE ANALYZER                                                                                *\n",
      "****************************************************************************************************\n",
      "* select an option from below:                                                                     *\n",
      "*                                                                                                  *\n",
      "*       1) Open a pdb file                 (O)                                                     *\n",
      "*       2) Information                     (I)                                                     *\n",
      "*       3) Show histogram of amino acids   (H)                                                     *\n",
      "*       4) Diplay secondary structure      (S)                                                     *\n",
      "*       5) Export PDB file                 (X)                                                     *\n",
      "*       6) Exit                            (Q)                                                     *\n",
      "*                                                                                Current PDB: None *\n",
      "****************************************************************************************************\n"
     ]
    },
    {
     "name": "stdin",
     "output_type": "stream",
     "text": [
      ": 1\n"
     ]
    }
   ],
   "source": [
    "a=display1()\n"
   ]
  },
  {
   "cell_type": "code",
   "execution_count": 243,
   "id": "2b1a9dfa-5da2-4166-8f99-eb7b50e2204e",
   "metadata": {},
   "outputs": [
    {
     "data": {
      "text/plain": [
       "'a'"
      ]
     },
     "execution_count": 243,
     "metadata": {},
     "output_type": "execute_result"
    }
   ],
   "source": [
    "a\n"
   ]
  },
  {
   "cell_type": "code",
   "execution_count": 1,
   "id": "e0378647-2eda-4ec5-9eb2-245e30b1f950",
   "metadata": {},
   "outputs": [
    {
     "name": "stdout",
     "output_type": "stream",
     "text": [
      "Before calling f()\n",
      "-- Inside f()\n",
      "After calling f()\n"
     ]
    }
   ],
   "source": [
    "def f():\n",
    "    s = '-- Inside f()'\n",
    "    print(s)\n",
    "\n",
    "print('Before calling f()')\n",
    "f()\n",
    "print('After calling f()')"
   ]
  },
  {
   "cell_type": "code",
   "execution_count": 48,
   "id": "4555153d-f3da-4b38-b9bf-0ab1d908ed7e",
   "metadata": {},
   "outputs": [
    {
     "data": {
      "text/plain": [
       "('data/3i40.pdb', <http.client.HTTPMessage at 0x7fcd13854ee0>)"
      ]
     },
     "execution_count": 48,
     "metadata": {},
     "output_type": "execute_result"
    }
   ],
   "source": [
    "import urllib\n",
    "name = 'data/3i40.pdb'\n",
    "url =''\n",
    "urllib.request.urlretrieve(url, name)"
   ]
  },
  {
   "cell_type": "code",
   "execution_count": 2,
   "id": "79fc6e1f-0af0-40d6-8850-17ce28740cba",
   "metadata": {},
   "outputs": [],
   "source": [
    "def validpdb(file):\n",
    "    with open(file) as pdb:\n",
    "       # flag =True\n",
    "        count=0\n",
    "        for line in pdb:\n",
    "            if line.startswith('HEADER') and len(line) == 81:\n",
    "                #flag =True\n",
    "                count+=1\n",
    "            if line.startswith('MASTER') and len(line)==81:\n",
    "                count+=1\n",
    "             #   flag=True\n",
    "        return count\n",
    "    \n",
    "         \n",
    "    \n",
    "                "
   ]
  },
  {
   "cell_type": "code",
   "execution_count": 7,
   "id": "136ff059-f449-4faf-8426-7c2a744277f1",
   "metadata": {},
   "outputs": [
    {
     "name": "stdout",
     "output_type": "stream",
     "text": [
      "HEADER    MEMBRANE PROTEIN                        30-JAN-12   2LP1              \n",
      "\n"
     ]
    }
   ],
   "source": [
    "with open('data/test.pdb')as file:\n",
    "    \n",
    "    p=file.readline()\n",
    "    print (p)\n",
    "        "
   ]
  },
  {
   "cell_type": "code",
   "execution_count": 80,
   "id": "569986ed-5de2-4f89-99c7-3179d5fe2277",
   "metadata": {},
   "outputs": [],
   "source": [
    "def get_aa_Sequence(pdb):\n",
    "    aa_lib = {'ARG':'R','HIS':'H','LYS':'K','ASP':'D','GLU':'E',\n",
    "              'SER':'S','THR':'T','ASN':'N','GLN':'Q','CYS':'C',\n",
    "              'SEC':'U','GLY':'G','PRO':'P','ALA':'A','VAL':'V',\n",
    "              'ILE':'I','LEU':'L','MET':'M','PHE':'F','TYR':'Y',\n",
    "              'TRP':'W'}\n"
   ]
  },
  {
   "cell_type": "code",
   "execution_count": 9,
   "id": "d47dbdc5-9635-42ff-bbfa-2d2d6b96cb05",
   "metadata": {},
   "outputs": [
    {
     "name": "stdout",
     "output_type": "stream",
     "text": [
      "[[1, 2, 3, 4, 5, 6, 7, 8, 9, 10, 11, 12, 13], [1, 2, 3], [1]]\n"
     ]
    }
   ],
   "source": [
    "# import itertools\n",
    "cd = [1, 2, 3, 4,5, 6,7,8, 9, 10, 11,12, 13, 1,2, 3,1]\n",
    "# result = itertools.dropwhile(lambda x: x == 1, cd)\n",
    "\n",
    "# for elements in result:\n",
    "#   print (elements)\n",
    "\n",
    "# count =0\n",
    "# for i in cd:\n",
    "#     x=i\n",
    "#     if i==1:\n",
    "#         print(i)\n",
    "#         #print(cd.next())\n",
    "#         # continue\n",
    "#     # else:\n",
    "    #     print (i)\n",
    "res = [[cd[0]]]\n",
    "  \n",
    "for i in range(1, len(cd)):\n",
    "    if cd[i-1]+1 == cd[i]:\n",
    "        res[-1].append(cd[i])\n",
    "\n",
    "    else:\n",
    "        res.append([cd[i]]) \n",
    "        \n",
    "print(res)\n"
   ]
  },
  {
   "cell_type": "code",
   "execution_count": 10,
   "id": "3b788017-a166-45ea-8d24-77b0e7055c09",
   "metadata": {},
   "outputs": [
    {
     "ename": "TypeError",
     "evalue": "can only concatenate str (not \"int\") to str",
     "output_type": "error",
     "traceback": [
      "\u001b[0;31m---------------------------------------------------------------------------\u001b[0m",
      "\u001b[0;31mTypeError\u001b[0m                                 Traceback (most recent call last)",
      "\u001b[0;32m/tmp/ipykernel_15450/1335857974.py\u001b[0m in \u001b[0;36m<module>\u001b[0;34m\u001b[0m\n\u001b[1;32m      3\u001b[0m \u001b[0mA\u001b[0m\u001b[0;34m=\u001b[0m\u001b[0;34m[\u001b[0m\u001b[0;34m[\u001b[0m\u001b[0ms\u001b[0m\u001b[0;34m[\u001b[0m\u001b[0;36m0\u001b[0m\u001b[0;34m]\u001b[0m\u001b[0;34m]\u001b[0m\u001b[0;34m]\u001b[0m\u001b[0;34m\u001b[0m\u001b[0;34m\u001b[0m\u001b[0m\n\u001b[1;32m      4\u001b[0m \u001b[0;32mfor\u001b[0m \u001b[0mi\u001b[0m \u001b[0;32min\u001b[0m \u001b[0mrange\u001b[0m\u001b[0;34m(\u001b[0m\u001b[0;36m1\u001b[0m\u001b[0;34m,\u001b[0m \u001b[0mlen\u001b[0m\u001b[0;34m(\u001b[0m\u001b[0ms\u001b[0m\u001b[0;34m)\u001b[0m\u001b[0;34m)\u001b[0m\u001b[0;34m:\u001b[0m\u001b[0;34m\u001b[0m\u001b[0;34m\u001b[0m\u001b[0m\n\u001b[0;32m----> 5\u001b[0;31m     \u001b[0;32mif\u001b[0m \u001b[0ms\u001b[0m\u001b[0;34m[\u001b[0m\u001b[0mi\u001b[0m\u001b[0;34m-\u001b[0m\u001b[0;36m1\u001b[0m\u001b[0;34m]\u001b[0m\u001b[0;34m+\u001b[0m\u001b[0;36m1\u001b[0m \u001b[0;34m==\u001b[0m \u001b[0ms\u001b[0m\u001b[0;34m[\u001b[0m\u001b[0mi\u001b[0m\u001b[0;34m]\u001b[0m\u001b[0;34m:\u001b[0m\u001b[0;34m\u001b[0m\u001b[0;34m\u001b[0m\u001b[0m\n\u001b[0m\u001b[1;32m      6\u001b[0m         \u001b[0mrepeat\u001b[0m\u001b[0;34m[\u001b[0m\u001b[0;34m-\u001b[0m\u001b[0;36m1\u001b[0m\u001b[0;34m]\u001b[0m\u001b[0;34m=\u001b[0m\u001b[0ms\u001b[0m\u001b[0;34m[\u001b[0m\u001b[0mi\u001b[0m\u001b[0;34m]\u001b[0m\u001b[0;34m\u001b[0m\u001b[0;34m\u001b[0m\u001b[0m\n\u001b[1;32m      7\u001b[0m \u001b[0;34m\u001b[0m\u001b[0m\n",
      "\u001b[0;31mTypeError\u001b[0m: can only concatenate str (not \"int\") to str"
     ]
    }
   ],
   "source": [
    "s='AAAAATCCCGCCGGAATAGGCGGCTATATAGGGCTCCGGAGGCGTAATTCCGGAATAAAA'\n",
    "repeat={}\n",
    "A=[[s[0]]]\n",
    "for i in range(1, len(s)):\n",
    "    if s[i-1]+1 == s[i]:\n",
    "        repeat[-1]=s[i]\n",
    "\n",
    "    else:\n",
    "        repeat[-1]=[s[i]]\n",
    "print(repeat)"
   ]
  },
  {
   "cell_type": "code",
   "execution_count": 139,
   "id": "f5959e46-a0fa-42c0-800c-6aa645c15dec",
   "metadata": {},
   "outputs": [
    {
     "ename": "TypeError",
     "evalue": "iter expected at most 2 arguments, got 8",
     "output_type": "error",
     "traceback": [
      "\u001b[0;31m---------------------------------------------------------------------------\u001b[0m",
      "\u001b[0;31mTypeError\u001b[0m                                 Traceback (most recent call last)",
      "\u001b[0;32m/tmp/ipykernel_9085/614741545.py\u001b[0m in \u001b[0;36m<module>\u001b[0;34m\u001b[0m\n\u001b[0;32m----> 1\u001b[0;31m \u001b[0mk\u001b[0m \u001b[0;34m=\u001b[0m \u001b[0miter\u001b[0m\u001b[0;34m(\u001b[0m\u001b[0;34m'1'\u001b[0m\u001b[0;34m,\u001b[0m\u001b[0;34m'2'\u001b[0m\u001b[0;34m,\u001b[0m\u001b[0;34m'3'\u001b[0m\u001b[0;34m,\u001b[0m\u001b[0;34m'4'\u001b[0m\u001b[0;34m,\u001b[0m\u001b[0;34m'1'\u001b[0m\u001b[0;34m,\u001b[0m\u001b[0;34m'2'\u001b[0m\u001b[0;34m,\u001b[0m \u001b[0;34m'3'\u001b[0m\u001b[0;34m,\u001b[0m\u001b[0;34m'1'\u001b[0m\u001b[0;34m)\u001b[0m\u001b[0;34m\u001b[0m\u001b[0;34m\u001b[0m\u001b[0m\n\u001b[0m\u001b[1;32m      2\u001b[0m \u001b[0;32mfor\u001b[0m \u001b[0ma\u001b[0m \u001b[0;32min\u001b[0m \u001b[0mk\u001b[0m\u001b[0;34m:\u001b[0m\u001b[0;34m\u001b[0m\u001b[0;34m\u001b[0m\u001b[0m\n\u001b[1;32m      3\u001b[0m    \u001b[0mx\u001b[0m\u001b[0;34m=\u001b[0m\u001b[0mk\u001b[0m\u001b[0;34m.\u001b[0m\u001b[0mnext\u001b[0m\u001b[0;34m(\u001b[0m\u001b[0;34m)\u001b[0m\u001b[0;34m\u001b[0m\u001b[0;34m\u001b[0m\u001b[0m\n\u001b[1;32m      4\u001b[0m    \u001b[0mprint\u001b[0m \u001b[0;34m(\u001b[0m\u001b[0;34m'start loop'\u001b[0m\u001b[0;34m)\u001b[0m\u001b[0;34m\u001b[0m\u001b[0;34m\u001b[0m\u001b[0m\n\u001b[1;32m      5\u001b[0m   \u001b[0;31m# print (a)\u001b[0m\u001b[0;34m\u001b[0m\u001b[0;34m\u001b[0m\u001b[0m\n",
      "\u001b[0;31mTypeError\u001b[0m: iter expected at most 2 arguments, got 8"
     ]
    }
   ],
   "source": [
    " k = iter('1','2','3','4','1','2', '3','1')\n",
    "for a in k:\n",
    "    x=k.next()\n",
    "    print ('start loop')\n",
    "   # print (a)\n",
    "\n",
    "    if a >x:\n",
    "        print(x)\n",
    "    #     x=k.next()\n",
    "    #     print(x)\n",
    "    #     if x<a:\n",
    "    #         print(a)\n",
    "    #     #print ('end if')\n",
    "    # print ('end loop')"
   ]
  },
  {
   "cell_type": "markdown",
   "id": "3558a226-7795-44f5-b396-fd5c4d6b8f64",
   "metadata": {},
   "source": [
    "## seqres record\n",
    "The ribo- and deoxyribonucleotides in the SEQRES records are distinguished.  The ribo- forms of these residues are identified with the residue names A, C, G, U and I. The deoxy- forms of these residues are identified with the residue names DA, DC, DG, DT and DI. Modified nucleotides in the sequence are identified by separate 3-letter residue codes.  The plus character prefix to label modified nucleotides (e.g. +A, +C, +T) is no longer used."
   ]
  },
  {
   "cell_type": "code",
   "execution_count": 22,
   "id": "87379e26-26fe-483f-bf2b-1315c321ff94",
   "metadata": {},
   "outputs": [],
   "source": [
    "import os\n",
    "# \n",
    "\n",
    "def information(filename):\n",
    "    with open(filename)as file:\n",
    "        #file.readline()\n",
    "        title_info = ''\n",
    "        chain = []\n",
    "        aa_num =[]\n",
    "        helix=[]\n",
    "        sheet=[]\n",
    "       # chain_set \n",
    "        for line in file:\n",
    "            #line.find('TITLE')\n",
    "            \n",
    "            if line.startswith('TITLE'):\n",
    "                \n",
    "                p=line.split()\n",
    "                \n",
    "                x=' '.join(p[1:])\n",
    "                title_info += x\n",
    "            if line.startswith('SEQRES'):\n",
    "                # print(line.split()[1])\n",
    "                chain.append(line.split()[1])\n",
    "                a,b=line.split()[2],line.split()[3]\n",
    "                aa_num.append((f'{a}:{b}'))\n",
    "            # helix += line.split()[2]\n",
    "                \n",
    "            if line.startswith('HELIX'):\n",
    "                # for d,c in zip(line.split()[2],line.split()[2]):\n",
    "                #     print(d,c)\n",
    "                    helix +=line.split()[2]\n",
    "            \n",
    "            if line.startswith('SHEET'):\n",
    "                for x,y in zip(line.split()[2],line.split()[3]):\n",
    "                    sheet.append(y)\n",
    "                    #print(x,y)\n",
    "                \n",
    "                #helix += line.split()[2]\n",
    "                #file.tell()\n",
    "        \n",
    "        print(chain)\n",
    "        print(max(helix))\n",
    "        print('TITLE:',title_info)\n",
    "        print(sheet)\n",
    "        \n",
    "#         res = [int[chain[0]]]\n",
    "  \n",
    "#         for i in range(1, len(chain)):\n",
    "#             if chain[i-1]+1 == chain[i]:\n",
    "#                 res[-1].append(chain[i])\n",
    "\n",
    "#             else:\n",
    "#                 res.append([chain[i]]) \n",
    "\n",
    "#         print(res)\n",
    "\n",
    "        \n",
    "    \n",
    "        # print(set(chain))\n",
    "        data=list(set(aa_num))\n",
    "        for k in data:\n",
    "            a,b=k.split(':')[0],k.split(':')[1]\n",
    "            print(f'Chain {a}\\nNumebr of aa {b}')\n",
    "        # print(data)\n",
    "\n",
    "            \n",
    "               # a.append(l)\n",
    "                # for i,c in enumerate(l):                   \n",
    "#                     if c in ('A','B','C'):\n",
    "#                         print (\"chain : \",c, l[-1])\n",
    "                        \n",
    "                    \n",
    "                \n",
    "                    \n",
    "                #chain= ' '.join(l[2:4])\n",
    "                # print(l)\n",
    "                # sort (l)"
   ]
  },
  {
   "cell_type": "code",
   "execution_count": 23,
   "id": "53af6f54-f50b-4594-904f-50b54e7f139e",
   "metadata": {},
   "outputs": [
    {
     "name": "stdout",
     "output_type": "stream",
     "text": [
      "['1', '2', '3', '4', '5', '6', '7', '8', '9', '10']\n",
      "3\n",
      "TITLE: THE SOLUTION NMR STRUCTURE OF THE TRANSMEMBRANE C-TERMINAL DOMAIN OF2 THE AMYLOID PRECURSOR PROTEIN (C99)\n",
      "[]\n",
      "Chain A\n",
      "Numebr of aa 122\n"
     ]
    }
   ],
   "source": [
    "information('data/test.pdb')\n"
   ]
  },
  {
   "cell_type": "code",
   "execution_count": 21,
   "id": "c3dd3270-f181-4069-83ee-658c44e92dd8",
   "metadata": {},
   "outputs": [
    {
     "name": "stdout",
     "output_type": "stream",
     "text": [
      "['1', '2', '3', '4', '5', '6', '7', '8', '9', '10', '11', '12', '13', '1']\n",
      "3\n",
      "TITLE: CRYSTAL STRUCTURE OF MMP-2 ACTIVE SITE MUTANT IN COMPLEX WITH APP-2 DRIVED DECAPEPTIDE INHIBITOR\n",
      "['2', '2', '6', '6', '6', '6', '6', '6', '2', '2']\n"
     ]
    },
    {
     "ename": "TypeError",
     "evalue": "'type' object is not subscriptable",
     "output_type": "error",
     "traceback": [
      "\u001b[0;31m---------------------------------------------------------------------------\u001b[0m",
      "\u001b[0;31mTypeError\u001b[0m                                 Traceback (most recent call last)",
      "\u001b[0;32m/tmp/ipykernel_15450/2597709331.py\u001b[0m in \u001b[0;36m<module>\u001b[0;34m\u001b[0m\n\u001b[0;32m----> 1\u001b[0;31m \u001b[0minformation\u001b[0m\u001b[0;34m(\u001b[0m\u001b[0;34m'data/3AYU.pdb'\u001b[0m\u001b[0;34m)\u001b[0m\u001b[0;34m\u001b[0m\u001b[0;34m\u001b[0m\u001b[0m\n\u001b[0m",
      "\u001b[0;32m/tmp/ipykernel_15450/1833052237.py\u001b[0m in \u001b[0;36minformation\u001b[0;34m(filename)\u001b[0m\n\u001b[1;32m     45\u001b[0m         \u001b[0mprint\u001b[0m\u001b[0;34m(\u001b[0m\u001b[0msheet\u001b[0m\u001b[0;34m)\u001b[0m\u001b[0;34m\u001b[0m\u001b[0;34m\u001b[0m\u001b[0m\n\u001b[1;32m     46\u001b[0m \u001b[0;34m\u001b[0m\u001b[0m\n\u001b[0;32m---> 47\u001b[0;31m         \u001b[0mres\u001b[0m \u001b[0;34m=\u001b[0m \u001b[0;34m[\u001b[0m\u001b[0mint\u001b[0m\u001b[0;34m[\u001b[0m\u001b[0mchain\u001b[0m\u001b[0;34m[\u001b[0m\u001b[0;36m0\u001b[0m\u001b[0;34m]\u001b[0m\u001b[0;34m]\u001b[0m\u001b[0;34m]\u001b[0m\u001b[0;34m\u001b[0m\u001b[0;34m\u001b[0m\u001b[0m\n\u001b[0m\u001b[1;32m     48\u001b[0m \u001b[0;34m\u001b[0m\u001b[0m\n\u001b[1;32m     49\u001b[0m         \u001b[0;32mfor\u001b[0m \u001b[0mi\u001b[0m \u001b[0;32min\u001b[0m \u001b[0mrange\u001b[0m\u001b[0;34m(\u001b[0m\u001b[0;36m1\u001b[0m\u001b[0;34m,\u001b[0m \u001b[0mlen\u001b[0m\u001b[0;34m(\u001b[0m\u001b[0mchain\u001b[0m\u001b[0;34m)\u001b[0m\u001b[0;34m)\u001b[0m\u001b[0;34m:\u001b[0m\u001b[0;34m\u001b[0m\u001b[0;34m\u001b[0m\u001b[0m\n",
      "\u001b[0;31mTypeError\u001b[0m: 'type' object is not subscriptable"
     ]
    }
   ],
   "source": [
    "information('data/3AYU.pdb')"
   ]
  },
  {
   "cell_type": "code",
   "execution_count": 99,
   "id": "c6ed2ea1-6e40-4263-b489-32a5539e2dfa",
   "metadata": {},
   "outputs": [],
   "source": [
    "def information(filename):\n",
    "    with open(filename)as file:\n",
    "        #file.readline()\n",
    "        title_info = ''\n",
    "        chain = []\n",
    "        aa_num =[]\n",
    "        helix=[]\n",
    "        sheet=[]\n",
    "       # chain_set \n",
    "        for line in file:\n",
    "                        \n",
    "            if line.startswith('TITLE'):\n",
    "                \n",
    "                p=line.split()\n",
    "                \n",
    "                x=' '.join(p[1:])#extracting TITLE informations \n",
    "                title_info += x\n",
    "            if line.startswith('SEQRES'): #information about the chains\n",
    "                chain.append(line.split()[1])\n",
    "                a,b=line.split()[2],line.split()[3]\n",
    "                aa_num.append((f'{a}:{b}'))\n",
    "            \n",
    "                \n",
    "            if line.startswith('HELIX'):\n",
    "                 for w,v in zip(line.split()[2],line.split()[7]):\n",
    "                    helix.append((f'{v}:{w}'))\n",
    "                    \n",
    "            \n",
    "            if line.startswith('SHEET'):\n",
    "                for x,y in zip(line.split()[1],line.split()[5]):\n",
    "                    sheet.append((f'{x}:{y}'))\n",
    "            \n",
    "                    \n",
    "       # print(chain)\n",
    "        #print(aa_num)\n",
    "        print((helix))\n",
    "        print('TITLE:',title_info)\n",
    "        print(sheet)\n",
    "        sheet_data=list(set(sheet))\n",
    "       \n",
    "\n",
    "\n",
    "\n",
    "    \n",
    "    \n",
    "        for i in sheet_data:\n",
    "            n,s = i.split(':')[0],i.split(':')[1]\n",
    "            print('- Sheet',s,'\\nNumebr of Sheet',n)\n",
    "        data=list(set(aa_num))\n",
    "        #print(data)\n",
    "        for k in data:\n",
    "            a,b=k.split(':')[0],k.split(':')[1]\n",
    "            print(f'Chain {a}\\nNumebr of aa {b}')\n",
    "      "
   ]
  },
  {
   "cell_type": "code",
   "execution_count": 105,
   "id": "54818f5a-c19f-4094-a38e-557e1d7ba1c1",
   "metadata": {},
   "outputs": [
    {
     "ename": "TypeError",
     "evalue": "'str' object cannot be interpreted as an integer",
     "output_type": "error",
     "traceback": [
      "\u001b[0;31m---------------------------------------------------------------------------\u001b[0m",
      "\u001b[0;31mTypeError\u001b[0m                                 Traceback (most recent call last)",
      "\u001b[0;32m/tmp/ipykernel_15450/2629537337.py\u001b[0m in \u001b[0;36m<module>\u001b[0;34m\u001b[0m\n\u001b[1;32m      2\u001b[0m \u001b[0md\u001b[0m\u001b[0;34m=\u001b[0m\u001b[0;34m[\u001b[0m\u001b[0;34m[\u001b[0m\u001b[0ma\u001b[0m\u001b[0;34m[\u001b[0m\u001b[0;36m2\u001b[0m\u001b[0;34m]\u001b[0m\u001b[0;34m]\u001b[0m\u001b[0;34m]\u001b[0m\u001b[0;34m\u001b[0m\u001b[0;34m\u001b[0m\u001b[0m\n\u001b[1;32m      3\u001b[0m \u001b[0mf\u001b[0m\u001b[0;34m=\u001b[0m\u001b[0;34m{\u001b[0m\u001b[0;34m}\u001b[0m\u001b[0;34m\u001b[0m\u001b[0;34m\u001b[0m\u001b[0m\n\u001b[0;32m----> 4\u001b[0;31m \u001b[0;32mfor\u001b[0m \u001b[0mi\u001b[0m \u001b[0;32min\u001b[0m \u001b[0mrange\u001b[0m\u001b[0;34m(\u001b[0m\u001b[0ma\u001b[0m\u001b[0;34m)\u001b[0m\u001b[0;34m:\u001b[0m\u001b[0;34m\u001b[0m\u001b[0;34m\u001b[0m\u001b[0m\n\u001b[0m\u001b[1;32m      5\u001b[0m     \u001b[0md\u001b[0m\u001b[0;34m.\u001b[0m\u001b[0mappend\u001b[0m\u001b[0;34m(\u001b[0m\u001b[0mi\u001b[0m\u001b[0;34m[\u001b[0m\u001b[0;36m2\u001b[0m\u001b[0;34m]\u001b[0m\u001b[0;34m)\u001b[0m\u001b[0;34m\u001b[0m\u001b[0;34m\u001b[0m\u001b[0m\n\u001b[1;32m      6\u001b[0m     \u001b[0;32mfor\u001b[0m \u001b[0mp\u001b[0m \u001b[0;32min\u001b[0m \u001b[0mi\u001b[0m\u001b[0;34m:\u001b[0m\u001b[0;34m\u001b[0m\u001b[0;34m\u001b[0m\u001b[0m\n",
      "\u001b[0;31mTypeError\u001b[0m: 'str' object cannot be interpreted as an integer"
     ]
    }
   ],
   "source": [
    "a=['1:A', '2:A', '1:A', '2:A', '3:A', '4:A', '5:A', '6:B', '1:A', '2:A']\n",
    "d=[[a[2]]]\n",
    "f={}\n",
    "for i in range(a):\n",
    "    d.append(i[2])\n",
    "    for p in i:\n",
    "        print(p)\n",
    "print(d)"
   ]
  },
  {
   "cell_type": "code",
   "execution_count": 100,
   "id": "429ca6e5-e4fb-4599-a893-196ac5713ba8",
   "metadata": {},
   "outputs": [
    {
     "name": "stdout",
     "output_type": "stream",
     "text": [
      "['A:1', 'A:2', 'A:3']\n",
      "TITLE: CRYSTAL STRUCTURE OF MMP-2 ACTIVE SITE MUTANT IN COMPLEX WITH APP-2 DRIVED DECAPEPTIDE INHIBITOR\n",
      "['1:A', '2:A', '1:A', '2:A', '3:A', '4:A', '5:A', '6:B', '1:A', '2:A']\n",
      "- Sheet A \n",
      "Numebr of Sheet 3\n",
      "- Sheet A \n",
      "Numebr of Sheet 1\n",
      "- Sheet B \n",
      "Numebr of Sheet 6\n",
      "- Sheet A \n",
      "Numebr of Sheet 4\n",
      "- Sheet A \n",
      "Numebr of Sheet 2\n",
      "- Sheet A \n",
      "Numebr of Sheet 5\n",
      "Chain A\n",
      "Numebr of aa 167\n",
      "Chain B\n",
      "Numebr of aa 10\n"
     ]
    }
   ],
   "source": [
    "information('data/3AYU.pdb')\n",
    "# information('info.txt')"
   ]
  },
  {
   "cell_type": "code",
   "execution_count": 145,
   "id": "55e2b48e-8fc1-4228-ac29-c78d60bf73e9",
   "metadata": {},
   "outputs": [
    {
     "name": "stdout",
     "output_type": "stream",
     "text": [
      "****************************************************************************************************\n",
      "* PDB FILE ANALYZER                                                                                *\n",
      "****************************************************************************************************\n",
      "* select an option from below:                                                                     *\n",
      "*                                                                                                  *\n",
      "*       1) Open a pdb file                 (O)                                                     *\n",
      "*       2) Information                     (I)                                                     *\n",
      "*       3) Show histogram of amino acids   (H)                                                     *\n",
      "*       4) Diplay secondary structure      (S)                                                     *\n",
      "*       5) Exit                            (Q)                                                     *\n",
      "*                                                                                Current PDB: None *\n",
      "****************************************************************************************************\n"
     ]
    },
    {
     "name": "stdin",
     "output_type": "stream",
     "text": [
      ": 1\n",
      "Please enter file name:  data/test.pdb\n"
     ]
    },
    {
     "name": "stdout",
     "output_type": "stream",
     "text": [
      "valid pdb file test.pdb \n",
      "\n"
     ]
    },
    {
     "name": "stdin",
     "output_type": "stream",
     "text": [
      "you want to overwrite current file y/n y\n"
     ]
    },
    {
     "name": "stdout",
     "output_type": "stream",
     "text": [
      "current file updated\n",
      "invalid option:\n",
      "****************************************************************************************************\n",
      "* PDB FILE ANALYZER                                                                                *\n",
      "****************************************************************************************************\n",
      "* select an option from below:                                                                     *\n",
      "*                                                                                                  *\n",
      "*       1) Open a pdb file                 (O)                                                     *\n",
      "*       2) Information                     (I)                                                     *\n",
      "*       3) Show histogram of amino acids   (H)                                                     *\n",
      "*       4) Diplay secondary structure      (S)                                                     *\n",
      "*       5) Exit                            (Q)                                                     *\n",
      "*                                                                            Current PDB: test.pdb *\n",
      "****************************************************************************************************\n"
     ]
    },
    {
     "name": "stdin",
     "output_type": "stream",
     "text": [
      ": q\n",
      "Are sure you want to exit the program?\n",
      "Enyter y/n to exit/ go back to the menu:  y\n"
     ]
    }
   ],
   "source": [
    "\"\"\"\n",
    "Desplay function\n",
    "\"\"\"\n",
    "\n",
    "\n",
    "\n",
    "y= 'Current PDB: None'\n",
    "def display1():\n",
    "    print('*' * 100),\n",
    "    print('*', 'PDB FILE ANALYZER',' '*78,'*')\n",
    "    print('*' * 100)\n",
    "    print('*', 'select an option from below:',' '*68 +'*') \n",
    "    print('*', ' '*96, '*')\n",
    "    print('{:7s} {:2s} {:30s} {:>4s} {:51s} {:s}'.format('*' , '1)','Open a pdb file','(O)',' ', '*' ))\n",
    "    print('{:7s} {:2s} {:30s} {:>4s} {:51s} {:s}'.format('*' , '2)','Information' ,'(I)',' ', '*' ))\n",
    "    print('{:7s} {:2s} {:30s} {:>4s} {:51s} {:s}'.format('*' , '3)','Show histogram of amino acids' ,'(H)',' ', '*' ))\n",
    "    print('{:7s} {:2s} {:30s} {:>4s} {:51s} {:s}'.format('*' , '4)','Diplay secondary structure' ,'(S)',' ', '*' ))\n",
    "    # print('{:7s} {:2s} {:30s} {:>4s} {:51s} {:s}'.format('*' , '5)','Export PDB file' ,'(X)',' ', '*' ))\n",
    "    print('{:7s} {:2s} {:30s} {:>4s} {:51s} {:s}'.format('*' , '5)','Exit' ,'(Q)',' ', '*' ))\n",
    "    print('{:7s} {:>90s} {:s}'.format('*',y , '*' ))\n",
    "    print('*' *100)\n",
    "    x=input(':' )\n",
    "    return x\n",
    "\n",
    "\"\"\"\n",
    "validate pdb file\n",
    "\"\"\"\n",
    "def validpdb(file):\n",
    "    with open(file) as pdb:\n",
    "       # flag =True\n",
    "        count=0\n",
    "        for line in pdb:\n",
    "            if line.startswith('HEADER') and len(line) == 81:\n",
    "                #flag =True\n",
    "                count+=1\n",
    "            if line.startswith('MASTER') and len(line)==81:\n",
    "                count+=1\n",
    "             #   flag=True\n",
    "        return count\n",
    "\n",
    "\n",
    "\n",
    "options= \"'1','2','3','4','5','6','o','i','h','s','q'\"\n",
    "for b in options:\n",
    "#b= \"'1','2','3','4','5','6','o','i','h','s','q'\"\n",
    "#while b !='q':\n",
    "    b=display1().lower()\n",
    "#ext = \"'q','6'\"\n",
    "\n",
    "    if b in \"'1','2','3','4','5','o','i','h','s'\":\n",
    "       # b=display1()\n",
    "        if b =='1'or b=='o':\n",
    "            opened=input(\"Please enter file name: \")\n",
    "            #filename=pathname[-1]\n",
    "            valid=validpdb(opened)\n",
    "            if valid==2:\n",
    "                pathname=opened.split('/')[-1]\n",
    "                y=('Current PDB: '+ pathname)\n",
    "\n",
    "                print('valid pdb file',pathname,\"\\n\")\n",
    "                # display1().lower()\n",
    "#                 with open(opened) as file:\n",
    "\n",
    "# #                     b=display1().lower()\n",
    "#                 if y!='Current PDB: None':\n",
    "#                     filename=input('you want to overwrite current file y/n' )\n",
    "#                     if filename =='y':\n",
    "#                         print(\"current file updated\")\n",
    "#                     else: pass\n",
    "\n",
    "            else:\n",
    "                print('invalid pdb file please enter another file')\n",
    "                #b=display1().lower()\n",
    "\n",
    "    if b in \"'q','5'\":\n",
    "\n",
    "        leave = input(\"Are sure you want to exit the program?\\nEnyter y/n to exit/ go back to the menu: \")\n",
    "        if leave.lower()== 'n':\n",
    "            pass\n",
    "            # b=display1().lower()\n",
    "            # b=display1().lower() \n",
    "            #break \n",
    "        elif leave.lower() == 'y':\n",
    "            break  \n",
    "\n",
    "        elif leave != 'n' or leave != 'y':\n",
    "            leave=input('invalid input\\nEnyter y/n to exit/stay: ')    \n",
    "        # elif leave.lower() == 'y':\n",
    "        #     break\n",
    "\n",
    "    else:\n",
    "        print('invalid option:' )    \n",
    "        # print(display1().lower())\n"
   ]
  },
  {
   "cell_type": "code",
   "execution_count": 150,
   "id": "0754c804-f488-4270-aa7e-a8418ca4903d",
   "metadata": {},
   "outputs": [
    {
     "data": {
      "text/plain": [
       "['data', 'test.pdb']"
      ]
     },
     "execution_count": 150,
     "metadata": {},
     "output_type": "execute_result"
    }
   ],
   "source": [
    "x='data/test.pdb'\n",
    "t=x.split('/')\n",
    "t"
   ]
  },
  {
   "cell_type": "code",
   "execution_count": 76,
   "id": "427bfd25-7428-42e8-98cc-7997de37b26d",
   "metadata": {},
   "outputs": [
    {
     "data": {
      "text/plain": [
       "1"
      ]
     },
     "execution_count": 76,
     "metadata": {},
     "output_type": "execute_result"
    }
   ],
   "source": [
    "validpdb('../Data/humchrx.txt')\n"
   ]
  },
  {
   "cell_type": "code",
   "execution_count": 253,
   "id": "82868fd7-716d-4a1e-bf1f-b63582e808af",
   "metadata": {},
   "outputs": [
    {
     "name": "stdout",
     "output_type": "stream",
     "text": [
      "****************************************************************************************************\n",
      "* PDB FILE ANALYZER                                                                                *\n",
      "****************************************************************************************************\n",
      "* select an option from below:                                                                     *\n",
      "*                                                                                                  *\n",
      "*       1) Open a pdb file                 (O)                                                     *\n",
      "*       2) Information                     (I)                                                     *\n",
      "*       3) Show histogram of amino acids   (H)                                                     *\n",
      "*       4) Diplay secondary structure      (S)                                                     *\n",
      "*       5) Export PDB file                 (X)                                                     *\n",
      "*       6) Exit                            (Q)                                                     *\n",
      "*                                                                            Current PDB: test.pdb *\n",
      "****************************************************************************************************\n"
     ]
    },
    {
     "name": "stdin",
     "output_type": "stream",
     "text": [
      ": q\n"
     ]
    }
   ],
   "source": [
    "\n",
    "b=display1().lower()\n",
    "while b!='q':\n",
    "    # b=display1().lower()\n",
    "    \n",
    "    if b in \"'1','2','3','4','5','o','i','h','s','q',\":\n",
    "            #b=display1()\n",
    "        if b =='1'or b=='o':\n",
    "            opened=input(\"Please enter file name: \")\n",
    "            filename=pathname[-1]\n",
    "            valid=validpdb(opened)\n",
    "            if valid==2:\n",
    "                pathname=opened.split('/')[-1]\n",
    "                y=('Current PDB: '+ pathname)\n",
    "            \n",
    "                print('valid pdb file',pathname)\n",
    "                b=display1().lower()\n",
    "                # with open(opened) as file:\n",
    "                #     b=display1().lower()\n",
    "                # # if opened=y:\n",
    "                #     filename=input('file exit press yes ' )\n",
    "                #     if filename='yes':\n",
    "                #         print(\"current file updated\")\n",
    "                #     else: pass\n",
    "            \n",
    "            else:\n",
    "                print('invalid pdb file please enter another file')\n",
    "                b=display1().lower()\n",
    "     \n",
    "\n"
   ]
  },
  {
   "cell_type": "code",
   "execution_count": 251,
   "id": "a24fe6fc-91e7-47f8-a3e0-04fd99fa33d0",
   "metadata": {},
   "outputs": [
    {
     "ename": "IndentationError",
     "evalue": "expected an indented block (3308532583.py, line 4)",
     "output_type": "error",
     "traceback": [
      "\u001b[0;36m  File \u001b[0;32m\"/tmp/ipykernel_24064/3308532583.py\"\u001b[0;36m, line \u001b[0;32m4\u001b[0m\n\u001b[0;31m    if choice.lower() in ('w','b'):\u001b[0m\n\u001b[0m    ^\u001b[0m\n\u001b[0;31mIndentationError\u001b[0m\u001b[0;31m:\u001b[0m expected an indented block\n"
     ]
    }
   ],
   "source": [
    "acountbal = 50000\n",
    "choice = input(\"Please enter 'b' to check balance or 'w' to withdraw: \")\n",
    "while choice != 'q':\n",
    "if choice.lower() in ('w','b'):\n",
    "    if choice.lower() == 'b':\n",
    "        print(\"Your balance is: %d\" % acountbal)\n",
    "        print(\"Anything else?\")\n",
    "        choice = input(\"Enter b for balance, w to withdraw or q to quit: \")\n",
    "        print(choice.lower())"
   ]
  },
  {
   "cell_type": "code",
   "execution_count": null,
   "id": "3444142f-0b79-4c91-9e55-a9ba56cc7055",
   "metadata": {},
   "outputs": [],
   "source": [
    "wi"
   ]
  }
 ],
 "metadata": {
  "kernelspec": {
   "display_name": "Python 3 (ipykernel)",
   "language": "python",
   "name": "python3"
  },
  "language_info": {
   "codemirror_mode": {
    "name": "ipython",
    "version": 3
   },
   "file_extension": ".py",
   "mimetype": "text/x-python",
   "name": "python",
   "nbconvert_exporter": "python",
   "pygments_lexer": "ipython3",
   "version": "3.9.7"
  }
 },
 "nbformat": 4,
 "nbformat_minor": 5
}
