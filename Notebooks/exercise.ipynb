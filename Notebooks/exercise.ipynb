{
 "cells": [
  {
   "cell_type": "code",
   "execution_count": 71,
   "id": "99413693-762c-4873-aadd-713239ab9a8a",
   "metadata": {},
   "outputs": [
    {
     "name": "stdout",
     "output_type": "stream",
     "text": [
      "F 2\n",
      "R 3\n",
      "H 11\n",
      "H 11\n",
      "Y 14\n",
      "K 16\n",
      "H 11\n"
     ]
    }
   ],
   "source": [
    "checkdna =['A','G','T','C','N']\n",
    "dna = \"ATFRACGATTGHAHYAKNH\"\n",
    "#for nuc in checkdna:\n",
    "for i in (dna):\n",
    "    if i not in checkdna:\n",
    "        print(i, dna.index(i))\n",
    "        \n",
    "              \n",
    "              "
   ]
  },
  {
   "cell_type": "code",
   "execution_count": 129,
   "id": "12cb335a-7232-417d-af47-6455b2061556",
   "metadata": {},
   "outputs": [],
   "source": [
    "checkdna =['A','G','T','C','N']\n",
    "dna = \"ATFRACGATTGHAHYAKNH\"\n",
    "#for nuc in checkdna:\n",
    "def val(dna):\n",
    "    for i in (dna):\n",
    "        if i not in checkdna:\n",
    "            return False\n",
    "    return True"
   ]
  },
  {
   "cell_type": "code",
   "execution_count": 1,
   "id": "e48a7243-e407-4d01-9eef-b74d10b97b2c",
   "metadata": {},
   "outputs": [],
   "source": [
    "def check(a):\n",
    "    for i in a:\n",
    "        if i not in 'ACGT':\n",
    "            return True\n",
    "            "
   ]
  },
  {
   "cell_type": "code",
   "execution_count": null,
   "id": "75196c30-17c9-4a44-896b-6384a1ba1e88",
   "metadata": {},
   "outputs": [],
   "source": []
  },
  {
   "cell_type": "code",
   "execution_count": 139,
   "id": "54b1f08f-cf97-4fa3-b819-c05f8e20771d",
   "metadata": {},
   "outputs": [
    {
     "name": "stdout",
     "output_type": "stream",
     "text": [
      "Invalid dna sequence,position:2,sequence:F\n",
      "Invalid dna sequence,position:3,sequence:R\n",
      "Invalid dna sequence,position:11,sequence:H\n",
      "Invalid dna sequence,position:13,sequence:H\n",
      "Invalid dna sequence,position:14,sequence:Y\n",
      "Invalid dna sequence,position:16,sequence:K\n",
      "This is not a DNA sequence\n",
      "GC is 43.75%\n",
      "GC is 47.06%\n"
     ]
    }
   ],
   "source": [
    "def check(a):\n",
    "    for i in a:\n",
    "        if i not in 'ACGT':\n",
    "            return True\n",
    "            \n",
    "    \n",
    "\n",
    "    \n",
    "def validatedna(seq):\n",
    "    invalid=check(seq)\n",
    "    if invalid:\n",
    "        for  pos,nuc in enumerate(seq):\n",
    "            if nuc not in 'ACGT':\n",
    "                print(f'Invalid dna sequence,position:{pos},sequence:{nuc}')\n",
    "        print('This is not a DNA sequence')\n",
    "    else:\n",
    "        percent=((seq.count('G')+seq.count('C'))/len(seq))*100\n",
    "        print(\"GC is %.2f\" %percent + '%')\n",
    "              \n",
    "\n",
    "validatedna(testdna)\n",
    "validatedna(mydna)\n",
    "validatedna(yourdna)\n"
   ]
  },
  {
   "cell_type": "code",
   "execution_count": 132,
   "id": "35ab999d-c85e-4687-b36d-bd5739952da5",
   "metadata": {},
   "outputs": [],
   "source": [
    "mydna = \"CAGTGATGATGACGAT\"\n",
    "yourdna = \"ACGATCGAGACGTAGTA\"\n",
    "testdna = \"ATFRACGATTGHAHYAK\""
   ]
  },
  {
   "cell_type": "code",
   "execution_count": 140,
   "id": "ea6a0b46-91bf-49f3-91b1-203fe74c69e4",
   "metadata": {},
   "outputs": [
    {
     "data": {
      "text/plain": [
       "False"
      ]
     },
     "execution_count": 140,
     "metadata": {},
     "output_type": "execute_result"
    }
   ],
   "source": [
    "validate(testdna)"
   ]
  },
  {
   "cell_type": "code",
   "execution_count": 134,
   "id": "a9253c8e-c338-422b-bcb8-d84f693f6f4c",
   "metadata": {},
   "outputs": [
    {
     "data": {
      "text/plain": [
       "True"
      ]
     },
     "execution_count": 134,
     "metadata": {},
     "output_type": "execute_result"
    }
   ],
   "source": [
    "validate(mydna)"
   ]
  },
  {
   "cell_type": "code",
   "execution_count": null,
   "id": "c7e3999e-0ac9-4221-8e10-5a063eed8be9",
   "metadata": {},
   "outputs": [],
   "source": []
  },
  {
   "cell_type": "code",
   "execution_count": null,
   "id": "dd9986f0-716d-4a22-9ea3-8b4d5486b6d8",
   "metadata": {},
   "outputs": [],
   "source": [
    "\n",
    "            \n",
    "    "
   ]
  },
  {
   "cell_type": "code",
   "execution_count": null,
   "id": "877efa0b-f950-46b2-bfe0-3dcfec711bd3",
   "metadata": {},
   "outputs": [],
   "source": [
    "\n"
   ]
  },
  {
   "cell_type": "code",
   "execution_count": 144,
   "id": "76b1cf58-859c-475f-ae25-654ccfa8262b",
   "metadata": {},
   "outputs": [],
   "source": [
    "def percentageGC(dna):\n",
    "    \"\"\"culculate the GC content and validate the dna sequnce\"\"\"\n",
    "    for pos,nuc in enumerate(dna.upper()):\n",
    "        if nuc not in ['A','G','T','C','N']:\n",
    "            print('There is an invalid base', nuc, 'at position',pos)\n",
    "           # break\n",
    "        else:\n",
    "            gc= ((dna.count('G')+ dna.count('C'))*100/len(dna))\n",
    "            print(gc)\n",
    "            \n",
    "    "
   ]
  },
  {
   "cell_type": "code",
   "execution_count": null,
   "id": "ab01df06-6574-444b-9f4e-280c49362f10",
   "metadata": {},
   "outputs": [],
   "source": []
  },
  {
   "cell_type": "code",
   "execution_count": 166,
   "id": "be373d62-4eb9-4f0e-b27b-f2e0874133f6",
   "metadata": {},
   "outputs": [],
   "source": [
    "mydna = \"CAGTGATGATGACGAT\"\n",
    "yourdna = \"ACGATCGAGACGTAGTA\"\n",
    "testdna = \"ATFRACGATTGHAHYAK\""
   ]
  },
  {
   "cell_type": "code",
   "execution_count": 50,
   "id": "00e26329-5adf-4bab-b3fd-bee181e34256",
   "metadata": {},
   "outputs": [
    {
     "name": "stdout",
     "output_type": "stream",
     "text": [
      "valid\n"
     ]
    }
   ],
   "source": [
    "set1={'A', 'G', 'T', 'C'}\n",
    "set2=set(mydna)\n",
    "if set2!=set1:\n",
    "    print('invalid')\n",
    "else:\n",
    "    print('valid')"
   ]
  },
  {
   "cell_type": "code",
   "execution_count": 173,
   "id": "2bbd782a-9cbb-4578-9e27-a3e36d4257af",
   "metadata": {},
   "outputs": [
    {
     "name": "stdout",
     "output_type": "stream",
     "text": [
      "GC is 50.00%\n",
      "GC is 43.75%\n",
      "GC is 47.06%\n",
      "Invalid dna sequence,position:2,sequence:F\n",
      "Invalid dna sequence,position:3,sequence:R\n",
      "Invalid dna sequence,position:11,sequence:H\n",
      "Invalid dna sequence,position:13,sequence:H\n",
      "Invalid dna sequence,position:14,sequence:Y\n",
      "Invalid dna sequence,position:16,sequence:K\n",
      "This is not a DNA\n"
     ]
    }
   ],
   "source": [
    "valid_dna={'A', 'G', 'T', 'C'}\n",
    "def validate2(a,b=valid_dna):\n",
    "    c=set(a.upper())\n",
    "    d=c.union(set(b))\n",
    "    if valid_dna!=d :\n",
    "        return True\n",
    "\n",
    "    \n",
    "\n",
    "def gc(seq,val=valid_dna):\n",
    "    seq_upper=seq.upper()\n",
    "    invalid=validate2(seq)\n",
    "    if invalid:\n",
    "        for  pos,nuc in enumerate(seq_upper):\n",
    "            if nuc not in valid_dna:\n",
    "                print(f'Invalid dna sequence,position:{pos},sequence:{nuc}')\n",
    "        print('This is not a DNA')\n",
    "    else:\n",
    "        percent=((seq_upper.count('G')+seq_upper.count('C'))/len(seq_upper))*100\n",
    "       # print(f\"%GC is {round(percent,2)}%\")\n",
    "        print('GC is %.2f' % percent + '%')\n",
    "\n",
    "        \n",
    "        \n",
    "\n",
    "        \n",
    "a='gtca'\n",
    "gc(a)    \n",
    "gc(mydna)\n",
    "gc(yourdna)\n",
    "gc(testdna)"
   ]
  },
  {
   "cell_type": "code",
   "execution_count": null,
   "id": "c9e3a792-a688-42dc-b2ae-734e1608e5ba",
   "metadata": {},
   "outputs": [],
   "source": []
  },
  {
   "cell_type": "code",
   "execution_count": 161,
   "id": "e0bce616-e8b5-423a-b05b-b67ff383408b",
   "metadata": {},
   "outputs": [
    {
     "name": "stdout",
     "output_type": "stream",
     "text": [
      "GC is 17.65%\n"
     ]
    }
   ],
   "source": [
    "gc(testdna)"
   ]
  },
  {
   "cell_type": "code",
   "execution_count": 157,
   "id": "06a7a6e5-5369-4fb8-b3cd-14549e143750",
   "metadata": {},
   "outputs": [
    {
     "name": "stdout",
     "output_type": "stream",
     "text": [
      "43.75\n",
      "43.75\n",
      "43.75\n",
      "43.75\n",
      "43.75\n",
      "43.75\n",
      "43.75\n",
      "43.75\n",
      "43.75\n",
      "43.75\n",
      "43.75\n",
      "43.75\n",
      "43.75\n",
      "43.75\n",
      "43.75\n",
      "43.75\n"
     ]
    }
   ],
   "source": [
    "percentageGC(mydna)"
   ]
  },
  {
   "cell_type": "code",
   "execution_count": 158,
   "id": "3f1289c8-8222-4046-97cd-9619d915863f",
   "metadata": {},
   "outputs": [
    {
     "name": "stdout",
     "output_type": "stream",
     "text": [
      "47.05882352941177\n",
      "47.05882352941177\n",
      "47.05882352941177\n",
      "47.05882352941177\n",
      "47.05882352941177\n",
      "47.05882352941177\n",
      "47.05882352941177\n",
      "47.05882352941177\n",
      "47.05882352941177\n",
      "47.05882352941177\n",
      "47.05882352941177\n",
      "47.05882352941177\n",
      "47.05882352941177\n",
      "47.05882352941177\n",
      "47.05882352941177\n",
      "47.05882352941177\n",
      "47.05882352941177\n"
     ]
    }
   ],
   "source": [
    "percentageGC(yourdna)"
   ]
  },
  {
   "cell_type": "code",
   "execution_count": 117,
   "id": "68ea0058-9406-4ccc-afbc-c90e798922b8",
   "metadata": {},
   "outputs": [
    {
     "name": "stdout",
     "output_type": "stream",
     "text": [
      "This is not DNA\n"
     ]
    }
   ],
   "source": [
    "percentageGC(testdna)"
   ]
  },
  {
   "cell_type": "code",
   "execution_count": 169,
   "id": "d788479b-699b-422c-a569-043c76e54d9d",
   "metadata": {},
   "outputs": [],
   "source": [
    "valid_dna={'A', 'G', 'T', 'C'}\n",
    "def validate2(a,b=valid_dna):\n",
    "    c=set(a.upper())\n",
    "    d=c.union(set(b))\n",
    "    if c==d :\n",
    "        return True"
   ]
  },
  {
   "cell_type": "code",
   "execution_count": 170,
   "id": "00ded85d-64a9-468e-99cb-4e3895d0488b",
   "metadata": {},
   "outputs": [
    {
     "data": {
      "text/plain": [
       "True"
      ]
     },
     "execution_count": 170,
     "metadata": {},
     "output_type": "execute_result"
    }
   ],
   "source": [
    "validate2(testdna)"
   ]
  },
  {
   "cell_type": "code",
   "execution_count": 2,
   "id": "26d33d8e-dc7d-4cce-8feb-a5dbd6f6b511",
   "metadata": {},
   "outputs": [],
   "source": [
    "#help(str)\n"
   ]
  },
  {
   "cell_type": "code",
   "execution_count": 1,
   "id": "3238ef1f-259e-47e5-9ca9-5b0c3ca8791f",
   "metadata": {},
   "outputs": [],
   "source": [
    "with open('../Data/humchrx.txt','r') as file:\n",
    "    with open('../Data/gene_name.txt','w')as myfile:\n",
    "        count=0\n",
    "        flag=False      \n",
    "        for line in file:\n",
    "           # print(line)\n",
    "            if line.startswith('_____'):\n",
    "                flag=True\n",
    "                count+=1\n",
    "                continue\n",
    "            elif line.startswith('-'):\n",
    "                flag=False\n",
    "            elif flag and count==2:\n",
    "                myfile.writelines(line.split()[0]+'\\n')\n",
    "            \n",
    "#                 h=\n",
    "\n",
    "\n",
    "\n",
    "#                 for i,word in enumerate(line):\n",
    "#                     #print(i,word)\n",
    "#                     if i==0:\n",
    "#                         continue\n",
    "\n",
    "#                     else:\n",
    "#                         x+=word#.split(' ', maxsplit=1)\n",
    "#         #     y=[]\n",
    "# #     for key in x:\n",
    "# #         y+=( x.get(key))\n",
    "        \n",
    "# #with open('../Data/gene.txt','xa'):\n",
    "        \n",
    "        \n",
    "#     #x[:885]         \n",
    "        \n",
    "        \n",
    "# #type(line)"
   ]
  },
  {
   "cell_type": "code",
   "execution_count": 1,
   "id": "bd23a6cd-f537-4000-9b52-b70a6598d923",
   "metadata": {},
   "outputs": [
    {
     "ename": "NameError",
     "evalue": "name 'x' is not defined",
     "output_type": "error",
     "traceback": [
      "\u001b[0;31m---------------------------------------------------------------------------\u001b[0m",
      "\u001b[0;31mNameError\u001b[0m                                 Traceback (most recent call last)",
      "\u001b[0;32m/tmp/ipykernel_16404/32546335.py\u001b[0m in \u001b[0;36m<module>\u001b[0;34m\u001b[0m\n\u001b[0;32m----> 1\u001b[0;31m \u001b[0mx\u001b[0m\u001b[0;34m\u001b[0m\u001b[0;34m\u001b[0m\u001b[0m\n\u001b[0m",
      "\u001b[0;31mNameError\u001b[0m: name 'x' is not defined"
     ]
    }
   ],
   "source": [
    "x"
   ]
  },
  {
   "cell_type": "code",
   "execution_count": 132,
   "id": "005fb5fe-d34d-4043-a9c3-feb2a226a8f0",
   "metadata": {},
   "outputs": [
    {
     "data": {
      "text/plain": [
       "['www', 'wwwww']"
      ]
     },
     "execution_count": 132,
     "metadata": {},
     "output_type": "execute_result"
    }
   ],
   "source": [
    "y=('www wwwww')\n",
    "\n",
    "y.split(sep=' ')\n",
    "\n",
    "    \n",
    "    \n"
   ]
  },
  {
   "cell_type": "code",
   "execution_count": 6,
   "id": "4c16596a-ee7b-4ff5-b0c7-dcfab5026bf2",
   "metadata": {},
   "outputs": [],
   "source": [
    "with open('../Data/humchrx.txt','r') as file:\n",
    "    with open('../Data/gene.txt','w') as myfile:\n",
    "    #h=file.readlines()\n",
    "    # t=h.find(Gene)\n",
    "    \n",
    "        for line in file:\n",
    "            gene=(line.strip().split(' ')[0] + '\\n')\n",
    "            #print(gene)\n",
    "            myfile.writelines(gene)\n",
    "            # start=gene.index('name')\n",
    "            # print(start)\n",
    "            # # if line.startswith('name'): #or if line.startswith('_') or if line.startswith('-')):\n",
    "            #     #continue\n",
    "            #     print(line)\n",
    "#             else:\n",
    "#                 print(line)\n",
    "                \n",
    "#                 for i,word in enumerate(file):\n",
    "#                     print(word)\n",
    "#                     if i==0:\n",
    "#                         continue\n",
    "#                     elif word=='-':\n",
    "#                         break\n",
    "\n",
    "#                     else:\n",
    "#                         myfile.write(word.split(' ', maxsplit=1)[0]) #+'\\n')"
   ]
  },
  {
   "cell_type": "code",
   "execution_count": 122,
   "id": "1fc541ec-2ee6-4ae3-a52f-3c4605a110b5",
   "metadata": {},
   "outputs": [
    {
     "data": {
      "text/plain": [
       "str"
      ]
     },
     "execution_count": 122,
     "metadata": {},
     "output_type": "execute_result"
    }
   ],
   "source": [
    "type(h)\n"
   ]
  },
  {
   "cell_type": "code",
   "execution_count": 93,
   "id": "1ca905de-361f-4239-ad0d-07c55242a6ce",
   "metadata": {},
   "outputs": [
    {
     "data": {
      "text/plain": [
       "\u001b[0;31mSignature:\u001b[0m \u001b[0mg\u001b[0m\u001b[0;34m.\u001b[0m\u001b[0mwritelines\u001b[0m\u001b[0;34m(\u001b[0m\u001b[0mlines\u001b[0m\u001b[0;34m,\u001b[0m \u001b[0;34m/\u001b[0m\u001b[0;34m)\u001b[0m\u001b[0;34m\u001b[0m\u001b[0;34m\u001b[0m\u001b[0m\n",
       "\u001b[0;31mDocstring:\u001b[0m\n",
       "Write a list of lines to stream.\n",
       "\n",
       "Line separators are not added, so it is usual for each of the\n",
       "lines provided to have a line separator at the end.\n",
       "\u001b[0;31mType:\u001b[0m      builtin_function_or_method\n"
      ]
     },
     "metadata": {},
     "output_type": "display_data"
    }
   ],
   "source": [
    "p=('wwwww')\n",
    "with open('../Data/pww.txt','x')as g:\n",
    "    x=g.writelines(p)\n",
    "?g.writelines\n"
   ]
  },
  {
   "cell_type": "code",
   "execution_count": 78,
   "id": "54415ad9-5574-4c78-b0d5-d2c827700919",
   "metadata": {},
   "outputs": [
    {
     "data": {
      "text/plain": [
       "\u001b[0;31mSignature:\u001b[0m\n",
       "\u001b[0mopen\u001b[0m\u001b[0;34m(\u001b[0m\u001b[0;34m\u001b[0m\n",
       "\u001b[0;34m\u001b[0m    \u001b[0mfile\u001b[0m\u001b[0;34m,\u001b[0m\u001b[0;34m\u001b[0m\n",
       "\u001b[0;34m\u001b[0m    \u001b[0mmode\u001b[0m\u001b[0;34m=\u001b[0m\u001b[0;34m'r'\u001b[0m\u001b[0;34m,\u001b[0m\u001b[0;34m\u001b[0m\n",
       "\u001b[0;34m\u001b[0m    \u001b[0mbuffering\u001b[0m\u001b[0;34m=\u001b[0m\u001b[0;34m-\u001b[0m\u001b[0;36m1\u001b[0m\u001b[0;34m,\u001b[0m\u001b[0;34m\u001b[0m\n",
       "\u001b[0;34m\u001b[0m    \u001b[0mencoding\u001b[0m\u001b[0;34m=\u001b[0m\u001b[0;32mNone\u001b[0m\u001b[0;34m,\u001b[0m\u001b[0;34m\u001b[0m\n",
       "\u001b[0;34m\u001b[0m    \u001b[0merrors\u001b[0m\u001b[0;34m=\u001b[0m\u001b[0;32mNone\u001b[0m\u001b[0;34m,\u001b[0m\u001b[0;34m\u001b[0m\n",
       "\u001b[0;34m\u001b[0m    \u001b[0mnewline\u001b[0m\u001b[0;34m=\u001b[0m\u001b[0;32mNone\u001b[0m\u001b[0;34m,\u001b[0m\u001b[0;34m\u001b[0m\n",
       "\u001b[0;34m\u001b[0m    \u001b[0mclosefd\u001b[0m\u001b[0;34m=\u001b[0m\u001b[0;32mTrue\u001b[0m\u001b[0;34m,\u001b[0m\u001b[0;34m\u001b[0m\n",
       "\u001b[0;34m\u001b[0m    \u001b[0mopener\u001b[0m\u001b[0;34m=\u001b[0m\u001b[0;32mNone\u001b[0m\u001b[0;34m,\u001b[0m\u001b[0;34m\u001b[0m\n",
       "\u001b[0;34m\u001b[0m\u001b[0;34m)\u001b[0m\u001b[0;34m\u001b[0m\u001b[0;34m\u001b[0m\u001b[0m\n",
       "\u001b[0;31mDocstring:\u001b[0m\n",
       "Open file and return a stream.  Raise OSError upon failure.\n",
       "\n",
       "file is either a text or byte string giving the name (and the path\n",
       "if the file isn't in the current working directory) of the file to\n",
       "be opened or an integer file descriptor of the file to be\n",
       "wrapped. (If a file descriptor is given, it is closed when the\n",
       "returned I/O object is closed, unless closefd is set to False.)\n",
       "\n",
       "mode is an optional string that specifies the mode in which the file\n",
       "is opened. It defaults to 'r' which means open for reading in text\n",
       "mode.  Other common values are 'w' for writing (truncating the file if\n",
       "it already exists), 'x' for creating and writing to a new file, and\n",
       "'a' for appending (which on some Unix systems, means that all writes\n",
       "append to the end of the file regardless of the current seek position).\n",
       "In text mode, if encoding is not specified the encoding used is platform\n",
       "dependent: locale.getpreferredencoding(False) is called to get the\n",
       "current locale encoding. (For reading and writing raw bytes use binary\n",
       "mode and leave encoding unspecified.) The available modes are:\n",
       "\n",
       "========= ===============================================================\n",
       "Character Meaning\n",
       "--------- ---------------------------------------------------------------\n",
       "'r'       open for reading (default)\n",
       "'w'       open for writing, truncating the file first\n",
       "'x'       create a new file and open it for writing\n",
       "'a'       open for writing, appending to the end of the file if it exists\n",
       "'b'       binary mode\n",
       "'t'       text mode (default)\n",
       "'+'       open a disk file for updating (reading and writing)\n",
       "'U'       universal newline mode (deprecated)\n",
       "========= ===============================================================\n",
       "\n",
       "The default mode is 'rt' (open for reading text). For binary random\n",
       "access, the mode 'w+b' opens and truncates the file to 0 bytes, while\n",
       "'r+b' opens the file without truncation. The 'x' mode implies 'w' and\n",
       "raises an `FileExistsError` if the file already exists.\n",
       "\n",
       "Python distinguishes between files opened in binary and text modes,\n",
       "even when the underlying operating system doesn't. Files opened in\n",
       "binary mode (appending 'b' to the mode argument) return contents as\n",
       "bytes objects without any decoding. In text mode (the default, or when\n",
       "'t' is appended to the mode argument), the contents of the file are\n",
       "returned as strings, the bytes having been first decoded using a\n",
       "platform-dependent encoding or using the specified encoding if given.\n",
       "\n",
       "'U' mode is deprecated and will raise an exception in future versions\n",
       "of Python.  It has no effect in Python 3.  Use newline to control\n",
       "universal newlines mode.\n",
       "\n",
       "buffering is an optional integer used to set the buffering policy.\n",
       "Pass 0 to switch buffering off (only allowed in binary mode), 1 to select\n",
       "line buffering (only usable in text mode), and an integer > 1 to indicate\n",
       "the size of a fixed-size chunk buffer.  When no buffering argument is\n",
       "given, the default buffering policy works as follows:\n",
       "\n",
       "* Binary files are buffered in fixed-size chunks; the size of the buffer\n",
       "  is chosen using a heuristic trying to determine the underlying device's\n",
       "  \"block size\" and falling back on `io.DEFAULT_BUFFER_SIZE`.\n",
       "  On many systems, the buffer will typically be 4096 or 8192 bytes long.\n",
       "\n",
       "* \"Interactive\" text files (files for which isatty() returns True)\n",
       "  use line buffering.  Other text files use the policy described above\n",
       "  for binary files.\n",
       "\n",
       "encoding is the name of the encoding used to decode or encode the\n",
       "file. This should only be used in text mode. The default encoding is\n",
       "platform dependent, but any encoding supported by Python can be\n",
       "passed.  See the codecs module for the list of supported encodings.\n",
       "\n",
       "errors is an optional string that specifies how encoding errors are to\n",
       "be handled---this argument should not be used in binary mode. Pass\n",
       "'strict' to raise a ValueError exception if there is an encoding error\n",
       "(the default of None has the same effect), or pass 'ignore' to ignore\n",
       "errors. (Note that ignoring encoding errors can lead to data loss.)\n",
       "See the documentation for codecs.register or run 'help(codecs.Codec)'\n",
       "for a list of the permitted encoding error strings.\n",
       "\n",
       "newline controls how universal newlines works (it only applies to text\n",
       "mode). It can be None, '', '\\n', '\\r', and '\\r\\n'.  It works as\n",
       "follows:\n",
       "\n",
       "* On input, if newline is None, universal newlines mode is\n",
       "  enabled. Lines in the input can end in '\\n', '\\r', or '\\r\\n', and\n",
       "  these are translated into '\\n' before being returned to the\n",
       "  caller. If it is '', universal newline mode is enabled, but line\n",
       "  endings are returned to the caller untranslated. If it has any of\n",
       "  the other legal values, input lines are only terminated by the given\n",
       "  string, and the line ending is returned to the caller untranslated.\n",
       "\n",
       "* On output, if newline is None, any '\\n' characters written are\n",
       "  translated to the system default line separator, os.linesep. If\n",
       "  newline is '' or '\\n', no translation takes place. If newline is any\n",
       "  of the other legal values, any '\\n' characters written are translated\n",
       "  to the given string.\n",
       "\n",
       "If closefd is False, the underlying file descriptor will be kept open\n",
       "when the file is closed. This does not work when a file name is given\n",
       "and must be True in that case.\n",
       "\n",
       "A custom opener can be used by passing a callable as *opener*. The\n",
       "underlying file descriptor for the file object is then obtained by\n",
       "calling *opener* with (*file*, *flags*). *opener* must return an open\n",
       "file descriptor (passing os.open as *opener* results in functionality\n",
       "similar to passing None).\n",
       "\n",
       "open() returns a file object whose type depends on the mode, and\n",
       "through which the standard file operations such as reading and writing\n",
       "are performed. When open() is used to open a file in a text mode ('w',\n",
       "'r', 'wt', 'rt', etc.), it returns a TextIOWrapper. When used to open\n",
       "a file in a binary mode, the returned class varies: in read binary\n",
       "mode, it returns a BufferedReader; in write binary and append binary\n",
       "modes, it returns a BufferedWriter, and in read/write mode, it returns\n",
       "a BufferedRandom.\n",
       "\n",
       "It is also possible to use a string or bytearray as a file for both\n",
       "reading and writing. For strings StringIO can be used like a file\n",
       "opened in a text mode, and for bytes a BytesIO can be used like a file\n",
       "opened in a binary mode.\n",
       "\u001b[0;31mType:\u001b[0m      builtin_function_or_method\n"
      ]
     },
     "metadata": {},
     "output_type": "display_data"
    }
   ],
   "source": [
    "\n"
   ]
  },
  {
   "cell_type": "code",
   "execution_count": 75,
   "id": "05f2fba2-e4ab-4d56-a8ef-9b8fb0bbe3c2",
   "metadata": {},
   "outputs": [
    {
     "data": {
      "text/plain": [
       "[1, 2, 3, 4, 5, 6, 7, 8, 9]"
      ]
     },
     "execution_count": 75,
     "metadata": {},
     "output_type": "execute_result"
    }
   ],
   "source": [
    "w"
   ]
  },
  {
   "cell_type": "code",
   "execution_count": 31,
   "id": "f32995c3-7c4c-44d9-8924-7453b06e7b6a",
   "metadata": {},
   "outputs": [
    {
     "data": {
      "text/plain": [
       "list"
      ]
     },
     "execution_count": 31,
     "metadata": {},
     "output_type": "execute_result"
    }
   ],
   "source": [
    "type(x)"
   ]
  },
  {
   "cell_type": "code",
   "execution_count": 62,
   "id": "07b94f6d-0277-4c39-943a-5c368601fa26",
   "metadata": {},
   "outputs": [
    {
     "ename": "SyntaxError",
     "evalue": "EOL while scanning string literal (2517069113.py, line 1)",
     "output_type": "error",
     "traceback": [
      "\u001b[0;36m  File \u001b[0;32m\"/tmp/ipykernel_57333/2517069113.py\"\u001b[0;36m, line \u001b[0;32m1\u001b[0m\n\u001b[0;31m    h='DOE     : http://www.ornl.gov\\n\u001b[0m\n\u001b[0m                                      ^\u001b[0m\n\u001b[0;31mSyntaxError\u001b[0m\u001b[0;31m:\u001b[0m EOL while scanning string literal\n"
     ]
    }
   ],
   "source": [
    "h='DOE     : http://www.ornl.gov\\n\n",
    "'/sci/techresources/Human_Genome/launchpad/chromX.shtml'\n"
   ]
  },
  {
   "cell_type": "code",
   "execution_count": 3,
   "id": "d4a61dd5-a9c7-4a04-af8f-9f47bad09862",
   "metadata": {},
   "outputs": [
    {
     "name": "stdout",
     "output_type": "stream",
     "text": [
      "This is the name of the script:  /home/ndugwa/anaconda3/envs/bioinf/lib/python3.9/site-packages/ipykernel_launcher.py\n",
      "Number of arguments:  3\n",
      "The arguments are:  ['/home/ndugwa/anaconda3/envs/bioinf/lib/python3.9/site-packages/ipykernel_launcher.py', '-f', '/home/ndugwa/.local/share/jupyter/runtime/kernel-ace142cc-88b2-4d1a-a85b-ba8167646adf.json']\n"
     ]
    }
   ],
   "source": [
    "import sys\n",
    "print(\"This is the name of the script: \", sys.argv[0])\n",
    "print(\"Number of arguments: \", len(sys.argv))\n",
    "print(\"The arguments are: \" , str(sys.argv))\n"
   ]
  },
  {
   "cell_type": "code",
   "execution_count": 5,
   "id": "ec1c9e18-5183-4183-8db9-f36de34b7732",
   "metadata": {},
   "outputs": [
    {
     "ename": "NameError",
     "evalue": "name 'w' is not defined",
     "output_type": "error",
     "traceback": [
      "\u001b[0;31m---------------------------------------------------------------------------\u001b[0m",
      "\u001b[0;31mNameError\u001b[0m                                 Traceback (most recent call last)",
      "\u001b[0;32m/tmp/ipykernel_15455/4010344786.py\u001b[0m in \u001b[0;36m<module>\u001b[0;34m\u001b[0m\n\u001b[0;32m----> 1\u001b[0;31m \u001b[0msys\u001b[0m\u001b[0;34m.\u001b[0m\u001b[0mstdout\u001b[0m\u001b[0;34m(\u001b[0m\u001b[0mw\u001b[0m\u001b[0;34m)\u001b[0m\u001b[0;34m\u001b[0m\u001b[0;34m\u001b[0m\u001b[0m\n\u001b[0m",
      "\u001b[0;31mNameError\u001b[0m: name 'w' is not defined"
     ]
    }
   ],
   "source": [
    "sys.stdout(w)"
   ]
  },
  {
   "cell_type": "code",
   "execution_count": 6,
   "id": "80d3a236-d866-4717-b4f0-1a0e759c06ea",
   "metadata": {},
   "outputs": [],
   "source": [
    "def gene_file(file1,file2):\n",
    "    \"\"\"\n",
    "    Reads the file (humchr.txt) \n",
    "    Writes to another file (gene_names.txt) a clean list of gene names.\n",
    "    \"\"\"\n",
    "    with open(file1,'r') as file:\n",
    "        with open(file2,'w')as myfile:\n",
    "            count=0\n",
    "            flag=False      \n",
    "            for line in file:\n",
    "            # print(line)\n",
    "                if line.startswith('_____'):\n",
    "                    flag=True\n",
    "                    count+=1\n",
    "                    continue\n",
    "                elif line.startswith('-'):\n",
    "                    flag=False\n",
    "                elif flag and count==2:\n",
    "                    myfile.writelines(line.split()[0]+'\\n')\n",
    "                \n",
    "gene_file('../Data/humchrx.txt','../Data/gene_name.txt')"
   ]
  },
  {
   "cell_type": "code",
   "execution_count": 26,
   "id": "61fae571-d499-4eea-99a3-7b483bb45a84",
   "metadata": {},
   "outputs": [
    {
     "name": "stdout",
     "output_type": "stream",
     "text": [
      "4\n"
     ]
    }
   ],
   "source": [
    "with open('../Data/example.fasta') as myfile:\n",
    "        read_file= myfile.read()\n",
    "        \n",
    "        sub_header= read_file.split('\\n' ,1)[1]\n",
    "        lis_file =list(sub_header)\n",
    "        sub_header1= ''.join(lis_file).split('\\n' )\n",
    "        single_line = ''.join(sub_header1)\n",
    "        dna_four_letter = set(single_line)\n",
    "        print(len(dna_four_letter))"
   ]
  },
  {
   "cell_type": "code",
   "execution_count": null,
   "id": "451b9010-a5f2-452e-b06f-0f4eb18345aa",
   "metadata": {},
   "outputs": [],
   "source": []
  }
 ],
 "metadata": {
  "kernelspec": {
   "display_name": "Python 3 (ipykernel)",
   "language": "python",
   "name": "python3"
  },
  "language_info": {
   "codemirror_mode": {
    "name": "ipython",
    "version": 3
   },
   "file_extension": ".py",
   "mimetype": "text/x-python",
   "name": "python",
   "nbconvert_exporter": "python",
   "pygments_lexer": "ipython3",
   "version": "3.9.7"
  }
 },
 "nbformat": 4,
 "nbformat_minor": 5
}
