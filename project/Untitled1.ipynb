{
 "cells": [
  {
   "cell_type": "code",
   "execution_count": 1,
   "id": "0f18730b-547b-4809-bbef-2ba9495abba4",
   "metadata": {},
   "outputs": [
    {
     "name": "stdout",
     "output_type": "stream",
     "text": [
      "TITTLE: SHAKER FAMILY VOLTAGE DEPENDENT POTASSIUM CHANNEL (KV1.2-KV2.1 PADDLE2 CHIMERA CHANNEL) IN ASSOCIATION WITH BETA SUBUNIT\n",
      "CHAINS: A, B, G, H\n",
      "{}\n"
     ]
    }
   ],
   "source": []
  },
  {
   "cell_type": "code",
   "execution_count": null,
   "id": "9a345b3e-7d70-410d-a7e7-6e218b2e5f8f",
   "metadata": {},
   "outputs": [],
   "source": [
    "aa_num_dic={'A': '167', 'B': '10'}\n",
    "chains=['A', 'B']\n",
    "helices={'A': 3, 'B': 0}\n",
    "sheets={'A': 9, 'B': 1}\n",
    "\n",
    "for i in chains:\n",
    "    # for a,b in aa_num_dic.items():\n",
    "    #     for k,v in helices.items():\n",
    "    #                  for x,y in sheets.items():\n",
    "    # if i==aa_num_dic.items()[1]and i==helices.items()[1] and i==sheets.items()[1]:\n",
    "    print('Chain',i)\n",
    "    \n",
    "    print('{:3s}{:22s} {:>4}'.format(' ','Number of amino acids:',aa_num_dic.get(i)))\n",
    "    print('{:3s}{:22s} {:>4}'.format(' ','Number of helix:',helices.get(i)))\n",
    "    print('{:3s}{:22s} {:>4}'.format(' ','Number of sheet:',sheets.get(i)))\n",
    "\n",
    "\n",
    "\n",
    "one_let_aa='' \n",
    "one_dic={}\n",
    "for i in amino_ac:\n",
    "# print(i)\n",
    "# print(amino_ac.get(i))\n",
    "\n",
    "for j in amino_ac.get(i):\n",
    "# print(j)\n",
    "\n",
    "for key in aa_dict.keys():\n",
    "\n",
    "if j==key:\n",
    "one_let_aa+=aa_dict[key]\n",
    "# one_let_aa=''\n",
    "#                     one_let_aa.update({one_let_aa[i[j]]:aa_dict[key]+j})\n",
    "#                     # one_let_aa=''\n",
    "\n",
    "one_dic[i]=one_let_aa\n",
    "one_let_aa=''\n",
    "print(one_dic) "
   ]
  },
  {
   "cell_type": "code",
   "execution_count": null,
   "id": "39ce7b67-4461-4d6a-97c4-3c504efca338",
   "metadata": {},
   "outputs": [],
   "source": [
    "# A='YSKKDYRSIVHEIDSILGNKPIGAIQVLPKLSSSLLGASNAEQLMENIAWCLRNEGVSSVIAERLGCTLPQLAGRRQQAKLKELQAGYQWLKDKILSEEDSGIPPYSRASLKWSPLACGIVSGKYPELFHKIGVGAMTYHMFQREKVEVQLQFNLIPPICEQAESSMEIMEAYSVARNQGMAMYWGTSRWPMEETVRAMTHVIVDVVFANRPDPNTGLKASLERLQLEYETERGLSRKHIIELVITTKIFWGGKAGNIIKKKGWRRSSAEVYAAGKAEVVLTLAYDNGINLFDTGGQITDEMAEHLMRVSCLGLGTWVTFMLQFYRNLGKSGL'\n",
    "# for i in range(0,len(A),10):\n",
    "chain=['A']\n",
    "a={'A': 'HHHHHLQISITLAAALEHYKFFEQMQNQGRILSKMQQNGYENPTVEVDAAVTPEERHLKKKQYTSIHHGVVVIATVIVITLVMSNKGAIIGLMVGGHHQKLVFFAEDVGMDAEFRHDSGYEV'}\n",
    "h={'A': ['687','695','700','708','708','724']}\n",
    "p={'A': 'HHHHHLQISITLA'}\n",
    "c=''\n",
    "s=''\n",
    "print(len(a.get('A')))\n",
    "for i in chain:\n",
    "    c+=p.get(i).replace(p.get(i),'-'*len(p.get(i)))#.replace(p.get(i)[2:6],'|'*4))\n",
    "    s+=a.get(i).replace(a.get(i)[2:6],'|'*4).replace(a.get(i)[8:11],'|'*3).replace('A-Z','-')\n",
    "    # c=''\n",
    "# print(c.replace(c[2:6],'|'))\n",
    "    # print((c.replace(c[2:6],'-')))\n",
    "for j in s:\n",
    "    if j!='|'and j!='/':\n",
    "        print(s.replace(j,'-'))\n",
    "        pass\n",
    "        \n",
    "    # else:\n",
    "    #     s+=c.replace(j,'-')\n",
    "print(c)\n",
    "# print(len(s) )\n",
    "print(s)\n",
    "# print(a.get('A'))\n",
    "# f=''\n",
    "# for i in chain:\n",
    "#     f+=a.get(i).replace(a.get(i)[2:6],'|'*4).replace(a.get(i)[8:11],'/'*3)\n",
    "    \n",
    "    # if i != '/' or i!='|':\n",
    "    #     f+=s.replace(i,'-')\n",
    "# print(f)"
   ]
  },
  {
   "cell_type": "code",
   "execution_count": 229,
   "id": "ee0028dc-47f2-4d31-a349-33a2c5a21728",
   "metadata": {},
   "outputs": [
    {
     "ename": "SyntaxError",
     "evalue": "'break' outside loop (1506186384.py, line 11)",
     "output_type": "error",
     "traceback": [
      "\u001b[0;36m  File \u001b[0;32m\"/tmp/ipykernel_21446/1506186384.py\"\u001b[0;36m, line \u001b[0;32m11\u001b[0m\n\u001b[0;31m    break\u001b[0m\n\u001b[0m    ^\u001b[0m\n\u001b[0;31mSyntaxError\u001b[0m\u001b[0;31m:\u001b[0m 'break' outside loop\n"
     ]
    }
   ],
   "source": [
    "import os\n",
    "def validpdb(file):\n",
    "   \n",
    "    try:\n",
    "        with open(file) as fh:\n",
    "        \n",
    "    \n",
    "            pdb=fh.readlines()\n",
    "    except:\n",
    "        print(\"File no found\")\n",
    "    break\n",
    "        # pdb=fh.readlines()\n",
    "    count=0\n",
    "    for line in pdb:\n",
    "        if line.startswith('HEADER') and len(line) == 81:\n",
    "            #flag =True\n",
    "            count+=1\n",
    "        if line.startswith('MASTER') and len(line)==81:\n",
    "            count+=1\n",
    "# except FileNotfound as wrong_file:\n",
    "# print('not found')\n",
    "            #   flag=True\n",
    "        return count"
   ]
  },
  {
   "cell_type": "code",
   "execution_count": 19,
   "id": "7a754493-732d-4446-9e9b-8d41a8f6f901",
   "metadata": {},
   "outputs": [],
   "source": [
    "import os\n",
    "def validpdb(file):\n",
    "   \n",
    "    try:\n",
    "        with open(file) as fh:\n",
    "        \n",
    "    \n",
    "            pdb=fh.readlines()\n",
    "            count=0\n",
    "            for line in pdb:\n",
    "                if line.startswith('HEADER') and len(line) == 81:\n",
    "                #flag =True\n",
    "                    count+=1\n",
    "                if line.startswith('MASTER') and len(line)==81:\n",
    "                    count+=1\n",
    "                    return count\n",
    "    except:\n",
    "        print(\"File no found\")\n",
    "        # pdb=fh.readlines()\n",
    "# print('not found')\n",
    "            #   flag=True"
   ]
  },
  {
   "cell_type": "code",
   "execution_count": null,
   "id": "766906d7-4a7f-4f03-9c05-b14cad9ada0f",
   "metadata": {},
   "outputs": [],
   "source": []
  },
  {
   "cell_type": "code",
   "execution_count": 20,
   "id": "381f5510-f999-4a3b-a292-e742b044f5a7",
   "metadata": {},
   "outputs": [
    {
     "data": {
      "text/plain": [
       "2"
      ]
     },
     "execution_count": 20,
     "metadata": {},
     "output_type": "execute_result"
    }
   ],
   "source": [
    "validpdb('data/3AYU.pdb')"
   ]
  },
  {
   "cell_type": "code",
   "execution_count": 13,
   "id": "0c862cc8-0783-4fca-b670-65f123ef2fcf",
   "metadata": {},
   "outputs": [],
   "source": [
    "\"\"\"\n",
    "validate pdb file\n",
    "\"\"\"\n",
    "def validpdb(file):\n",
    "    try:\n",
    "        global pdb\n",
    "        with open(file) as fh:\n",
    "            # global pdb\n",
    "            pdb=fh.readlines()\n",
    "        count=0\n",
    "        for line in pdb:\n",
    "            if line.startswith('HEADER') and len(line) == 81:\n",
    "                #flag =True\n",
    "                count+=1\n",
    "            if line.startswith('MASTER') and len(line)==81:\n",
    "                count+=1\n",
    "        return count\n",
    "    except:\n",
    "        print('not found')\n",
    "            #   flag=True\n",
    "    # return count\n"
   ]
  },
  {
   "cell_type": "code",
   "execution_count": 15,
   "id": "60a1711f-2f7b-4d31-b39b-64a1345ea080",
   "metadata": {},
   "outputs": [
    {
     "data": {
      "text/plain": [
       "2"
      ]
     },
     "execution_count": 15,
     "metadata": {},
     "output_type": "execute_result"
    }
   ],
   "source": [
    "validpdb('data/3AYU.pdb')\n",
    "# print(len('MASTER      358    0    5    3   10    0   17    6 1660    2   35   14          '))"
   ]
  },
  {
   "cell_type": "code",
   "execution_count": 192,
   "id": "ebfe38f8-027e-4936-80d4-da2760c40523",
   "metadata": {},
   "outputs": [
    {
     "name": "stdout",
     "output_type": "stream",
     "text": [
      "y-jklcdrzmnspwq\n",
      "yfjkl-drzmnspwq\n",
      "yfjklc-rzmnspwq\n",
      "yfjklcd-zmnspwq\n"
     ]
    }
   ],
   "source": [
    "a='fcdr'\n",
    "b='qpwz'\n",
    "\n",
    "seq='yfjklcdrzmnspwq'\n",
    "stry=''\n",
    "for i in seq:\n",
    "    if i in a:\n",
    "        print(seq.replace(i,'-'))\n",
    "        print(seq)\n",
    "    # elif i in b:\n",
    "    #     stry+=str(seq).replace(i,'/')\n",
    "    # else:\n",
    "    #     stry+=str(seq).replace(i,'-')\n",
    "# print(stry)\n",
    "# print(seq)\n"
   ]
  },
  {
   "cell_type": "code",
   "execution_count": null,
   "id": "f6ff40e2-ebb1-4919-902f-dd670d16e40e",
   "metadata": {},
   "outputs": [],
   "source": []
  },
  {
   "cell_type": "code",
   "execution_count": null,
   "id": "868b0bcb-9062-4317-9968-e4f9dbd6e2c2",
   "metadata": {},
   "outputs": [],
   "source": []
  }
 ],
 "metadata": {
  "kernelspec": {
   "display_name": "Python 3 (ipykernel)",
   "language": "python",
   "name": "python3"
  },
  "language_info": {
   "codemirror_mode": {
    "name": "ipython",
    "version": 3
   },
   "file_extension": ".py",
   "mimetype": "text/x-python",
   "name": "python",
   "nbconvert_exporter": "python",
   "pygments_lexer": "ipython3",
   "version": "3.9.7"
  }
 },
 "nbformat": 4,
 "nbformat_minor": 5
}
