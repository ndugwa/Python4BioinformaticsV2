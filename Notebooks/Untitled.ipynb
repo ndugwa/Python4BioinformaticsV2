{
 "cells": [
  {
   "cell_type": "markdown",
   "id": "9857209e-b0a5-4fa1-a47a-9497a1bd7b82",
   "metadata": {},
   "source": [
    "# My document in learning python\n",
    "here we go"
   ]
  },
  {
   "cell_type": "markdown",
   "id": "1c8cf40c-dd93-4b9b-8854-68d908a11237",
   "metadata": {},
   "source": [
    "## python as a calculater"
   ]
  },
  {
   "cell_type": "code",
   "execution_count": 2,
   "id": "f6f79138-eed0-4eef-b39c-f73d7b79a30d",
   "metadata": {},
   "outputs": [
    {
     "data": {
      "text/plain": [
       "6"
      ]
     },
     "execution_count": 2,
     "metadata": {},
     "output_type": "execute_result"
    }
   ],
   "source": [
    "2 +4"
   ]
  },
  {
   "cell_type": "code",
   "execution_count": 3,
   "id": "47709d46-97c8-4be2-a11f-2678e5419bed",
   "metadata": {},
   "outputs": [],
   "source": [
    "add = 5 *5"
   ]
  },
  {
   "cell_type": "code",
   "execution_count": 4,
   "id": "107f0520-c6a2-44b8-aaca-334b649fcfe2",
   "metadata": {},
   "outputs": [
    {
     "data": {
      "text/plain": [
       "25"
      ]
     },
     "execution_count": 4,
     "metadata": {},
     "output_type": "execute_result"
    }
   ],
   "source": [
    "add"
   ]
  },
  {
   "cell_type": "markdown",
   "id": "3fcb0525-7b5f-4402-a518-ad2594ef7bc1",
   "metadata": {},
   "source": [
    "## strings"
   ]
  },
  {
   "cell_type": "code",
   "execution_count": 5,
   "id": "1d3daeb4-508b-459f-b366-2de5dd6bcc26",
   "metadata": {},
   "outputs": [],
   "source": [
    "name = \"Henry\""
   ]
  },
  {
   "cell_type": "code",
   "execution_count": 6,
   "id": "00cf6be6-bad8-4b42-ac63-de2e3435e7cb",
   "metadata": {},
   "outputs": [
    {
     "name": "stdout",
     "output_type": "stream",
     "text": [
      "my name is Henry\n"
     ]
    }
   ],
   "source": [
    "print(\"my name is \" + name)"
   ]
  },
  {
   "cell_type": "code",
   "execution_count": null,
   "id": "8e537e1e-2cea-47b6-90c9-25afe66a6135",
   "metadata": {},
   "outputs": [],
   "source": []
  }
 ],
 "metadata": {
  "kernelspec": {
   "display_name": "Python 3 (ipykernel)",
   "language": "python",
   "name": "python3"
  },
  "language_info": {
   "codemirror_mode": {
    "name": "ipython",
    "version": 3
   },
   "file_extension": ".py",
   "mimetype": "text/x-python",
   "name": "python",
   "nbconvert_exporter": "python",
   "pygments_lexer": "ipython3",
   "version": "3.9.7"
  }
 },
 "nbformat": 4,
 "nbformat_minor": 5
}
